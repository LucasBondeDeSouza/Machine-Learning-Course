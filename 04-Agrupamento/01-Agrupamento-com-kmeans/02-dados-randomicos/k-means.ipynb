{
 "cells": [
  {
   "cell_type": "markdown",
   "id": "fc185303",
   "metadata": {},
   "source": [
    "# Agrupamento - Agrupamento com K-means"
   ]
  },
  {
   "cell_type": "code",
   "execution_count": 23,
   "id": "28fbb075",
   "metadata": {},
   "outputs": [],
   "source": [
    "import plotly.express as px\n",
    "import plotly.graph_objects as go\n",
    "import numpy as np\n",
    "from sklearn.preprocessing import StandardScaler\n",
    "from sklearn.cluster import KMeans"
   ]
  },
  {
   "cell_type": "code",
   "execution_count": 5,
   "id": "d5882ba7",
   "metadata": {},
   "outputs": [],
   "source": [
    "from sklearn.datasets import make_blobs"
   ]
  },
  {
   "cell_type": "code",
   "execution_count": 18,
   "id": "501c51c7",
   "metadata": {},
   "outputs": [],
   "source": [
    "x_random, y_random = make_blobs(n_samples=200, centers=5, random_state=3)"
   ]
  },
  {
   "cell_type": "code",
   "execution_count": 19,
   "id": "3f85870d",
   "metadata": {},
   "outputs": [
    {
     "data": {
      "application/vnd.plotly.v1+json": {
       "config": {
        "plotlyServerURL": "https://plot.ly"
       },
       "data": [
        {
         "hovertemplate": "x=%{x}<br>y=%{y}<extra></extra>",
         "legendgroup": "",
         "marker": {
          "color": "#636efa",
          "symbol": "circle"
         },
         "mode": "markers",
         "name": "",
         "orientation": "v",
         "showlegend": false,
         "type": "scatter",
         "x": [
          -9.966450178440919,
          -5.768817235434638,
          -7.725631266254367,
          -7.8178719435676385,
          7.347810094400179,
          -8.059642752652051,
          0.14207575372920977,
          8.506768884362952,
          -0.16908847552866368,
          -8.034023360973194,
          -3.34606131955914,
          -7.205633483346732,
          -4.259346182301052,
          -8.843347409743844,
          -4.3499953203630275,
          1.1689037542539908,
          -3.956154955495293,
          2.503501183484049,
          8.948348635139393,
          -7.6727783201249435,
          -7.854710749401578,
          -5.6491419035359565,
          -7.1254903045061395,
          9.847428766763644,
          2.0291414933780034,
          -8.103402355137787,
          0.09216602979572064,
          7.53735439386091,
          -8.518003316036552,
          1.8617914585486912,
          -6.792809807637712,
          2.5021064065660994,
          -0.35471096106050726,
          8.721771181915859,
          8.247189501237987,
          5.828545533174795,
          -6.4184954322662815,
          0.3412305411797958,
          -5.14190140196833,
          0.8185433723332594,
          7.209221666206068,
          -3.536843236757204,
          -9.012500162164224,
          7.428049031567491,
          -4.935240015338585,
          -3.3670906804897878,
          1.897276093699039,
          -9.969022812603189,
          -8.812782488018136,
          0.8614511995922217,
          -2.9484341772879565,
          -4.322525248757032,
          0.21219195691493276,
          7.729578077202039,
          -4.698553146539263,
          8.897891204307548,
          -5.402807141637246,
          8.452527201744214,
          -8.687470012202912,
          -4.907338702139626,
          -7.366044045358217,
          -7.517079436335433,
          1.4997463990920394,
          -9.44655532089293,
          0.6596872920447643,
          -6.583765303964543,
          -0.008972823116577322,
          6.62330246284697,
          9.006203880065705,
          1.76101431789688,
          1.630035139245603,
          -4.77636745619327,
          -10.109752732794849,
          -5.016145072412898,
          0.24712170117227916,
          -4.053897400625012,
          -7.097642973533825,
          7.840311371396134,
          -4.707169866896747,
          8.304720045606235,
          -7.200736140356919,
          8.62790424464478,
          1.4539046627715912,
          -4.179461059751878,
          -8.682972210264955,
          -10.915728196157145,
          -7.47913358765554,
          7.9924361279759,
          7.509903693970563,
          -8.651459758107798,
          7.731177029067234,
          -7.137477949760727,
          -4.830316110047595,
          -8.337901150436286,
          -10.857492859344207,
          -9.597070437469279,
          -5.044213708677987,
          -0.37980545114916575,
          -3.7559384718913287,
          -9.84081512402106,
          7.2704374672736645,
          -9.54118822908635,
          -8.453858379880083,
          -8.34382651170654,
          -8.879621422406068,
          -8.55227491136473,
          1.6412030176543384,
          -8.908165097051459,
          -5.869055306126292,
          0.9721398825155809,
          -0.29790670187117296,
          -3.3303862712564047,
          8.926154637689397,
          -7.1098442648073075,
          9.58835651616339,
          10.670817461958967,
          -4.712487366096218,
          7.271718774624781,
          -6.626936176839501,
          0.9918535814202791,
          2.1241455514265017,
          -8.879939160954756,
          -4.261646159926685,
          -8.734250338352451,
          0.4130729474842909,
          -4.756613642233818,
          -7.644812604951358,
          -10.256885261610776,
          -0.22816527746442783,
          -5.985031838017789,
          6.788353587800589,
          -7.542241639913763,
          8.96286075155809,
          -5.088399922315441,
          -1.2322997160850968,
          -8.976954712940737,
          8.25206436821116,
          7.763701488252469,
          7.58433896663119,
          -4.598103236871261,
          -8.885691876162511,
          7.691240484186629,
          -8.116692562327014,
          -7.413565996773338,
          -9.3398336791668,
          -8.127084687100911,
          -8.47507553880651,
          -4.772983960226989,
          -5.468643148627921,
          1.9983254857496693,
          -4.639166008879419,
          -7.550313628824105,
          -4.482111296260664,
          -8.739255172961917,
          -7.200636562012414,
          1.0659916936683693,
          -8.71557523920062,
          -7.696577208806026,
          1.1610212655950372,
          -5.668563292661874,
          6.838579808149108,
          -4.860117901082265,
          -0.00782708843495894,
          -6.422873609140609,
          -6.924323157618641,
          2.0641055637377645,
          7.660648830290129,
          -9.202560487181007,
          -3.6231920168936895,
          8.42089075937518,
          -5.591392834919638,
          -7.706011022464145,
          -1.505792754087424,
          5.173830409153467,
          -8.88160256318533,
          -8.601074941162103,
          -8.145551275806085,
          -3.502833621915606,
          -11.647177299023916,
          7.399092936734994,
          -3.3076194991305927,
          0.47059810387197876,
          -7.247837010308687,
          -8.40038470385716,
          7.383414229139845,
          -4.871865899054979,
          -8.832641278975364,
          -8.891563741272343,
          -4.897931019258532,
          -8.100678208407388,
          1.6591213320872278,
          -4.9778199149645035,
          -4.443145706413132,
          -6.871715907407589,
          2.1399360104489773,
          8.158441418160056,
          8.953592166151846,
          0.41930840980731,
          -0.6073273943437381,
          -7.537717675978614
         ],
         "xaxis": "x",
         "y": [
          -0.840008608488972,
          -8.214357175249043,
          -4.9698027620654734,
          -4.957992690049898,
          7.803018373055721,
          -5.58935539048826,
          4.192670267723113,
          7.365488359784599,
          3.9573065529395546,
          -2.676200228007901,
          0.7086710068670571,
          -5.902299343889417,
          0.49262060119610346,
          -0.9487761141228485,
          2.1258289132198263,
          3.0987611784255713,
          0.5035872686480847,
          3.0446557679617308,
          7.949783800477675,
          -2.6990187854150673,
          -1.214106494188386,
          -3.539283839985813,
          -7.014178902257472,
          9.120920114640036,
          5.015754293316245,
          -6.917298560664095,
          3.1390806915192577,
          8.076992150321752,
          -6.885351054942823,
          2.302066923419982,
          -5.774685048989035,
          4.399672719589008,
          4.401519644767997,
          7.277429755892703,
          7.538734597490798,
          6.965086668454827,
          -5.688622927217998,
          4.313573317727118,
          0.5938473380664607,
          5.937601483768031,
          9.557244732627355,
          0.5296124779773668,
          -1.4565386631233976,
          7.3855915148782065,
          -1.5275581466878336,
          -0.3034396501443032,
          5.872529516015044,
          -0.9294155526851582,
          -8.136934752196803,
          5.9325837556558385,
          0.36553849863425114,
          1.2136404710469118,
          1.743873279183426,
          6.3034006081991425,
          0.0274804375175475,
          8.557605956097849,
          0.2761675370435899,
          9.996740304444847,
          -1.2481632988764917,
          0.1816087184011697,
          -7.012525812900505,
          -7.329085264054504,
          4.839172852225158,
          -0.8869585962170974,
          2.419815415408637,
          -7.7207936097211025,
          5.06229489820291,
          7.785075336484137,
          7.815632623266837,
          6.139067235488398,
          3.325044179659802,
          -5.227668548162886,
          -2.5058328617142474,
          1.5615445605754983,
          3.9329257300841567,
          1.4581686221118,
          -0.755288398619349,
          8.409390566077068,
          -1.459082530231335,
          7.143152735221297,
          -4.591056686858603,
          9.29210462222768,
          6.10193491276259,
          0.6411878248131172,
          0.7826715009280651,
          -2.3435260779773794,
          -2.5819191378249657,
          6.63660058485703,
          8.17868686989031,
          -4.167773331869235,
          8.174029805815584,
          -4.22856883227755,
          -0.5209127335054982,
          -7.348692105025304,
          -1.0872093926108395,
          -1.6758470201297,
          1.2882360337360543,
          5.554619360106903,
          0.06753833173775856,
          -1.4234352004527424,
          6.379305955857683,
          -3.2128752527253566,
          -1.6163795031371495,
          -5.894872275831354,
          -0.39837087991018094,
          -2.076209461650696,
          4.002443089175172,
          -5.089421365212473,
          -5.342049428833757,
          3.685738422002593,
          5.047578832861681,
          0.7028014300615715,
          8.56728243426281,
          -0.9282126412520253,
          8.619914050738185,
          8.177856905351987,
          -0.5139745397400699,
          9.836688630025126,
          -4.936134306191019,
          3.2742990345091467,
          5.282347107680987,
          -3.401220738023923,
          0.7810376222478573,
          -0.36819866099788534,
          2.2484844089562817,
          0.10709777007265195,
          -8.127386551857121,
          -2.3275249533243985,
          3.5365395411737266,
          -4.946823720895795,
          8.29673175069902,
          -4.539975212961385,
          9.807616769776246,
          0.30496731015526624,
          3.8951945875160394,
          0.3170872299137597,
          7.684476978859404,
          7.398673999334801,
          8.360871036840505,
          0.9412097621927101,
          -0.08602363944664027,
          9.64853097651546,
          0.40306341607900986,
          -6.483393244040365,
          -0.8032055424069697,
          -6.509557648821931,
          -1.7543659509921437,
          -0.2998652638352137,
          -5.528880164287608,
          3.06188882225062,
          1.0758361122179358,
          -1.5033932679201634,
          2.374701446010179,
          0.009002038567600401,
          -7.649949472558587,
          3.7582790377612048,
          -1.4153005366139777,
          -5.870115623053889,
          5.330838738663737,
          1.6251790628022202,
          8.196455203639426,
          0.6429871783933356,
          3.449963252250046,
          -6.727518098565695,
          -0.5168152773955735,
          5.496694271804582,
          10.383449404959611,
          -1.6484718481361722,
          -0.26181255648995,
          7.6320405408311505,
          -7.06094522804478,
          -2.064314461038673,
          0.14533307679269927,
          7.944282573383412,
          -0.40490622470702686,
          -7.494438684553248,
          -4.23571163059556,
          -0.638885064706621,
          -1.6139037340642843,
          9.916599590991005,
          -1.076984527968524,
          2.6164791367791276,
          -5.40210465046139,
          -6.011200840065764,
          7.7600847555373225,
          0.7029665792218754,
          -0.24430027279184974,
          -2.1485665942967307,
          0.9480178397733657,
          -4.4551769412144,
          4.41204315908793,
          0.2892976331046949,
          -1.081494533716222,
          -6.692773883998404,
          4.031042219561194,
          7.485870467440796,
          8.565554133871876,
          3.5743620726738525,
          4.809631904632268,
          -5.481752493234904
         ],
         "yaxis": "y"
        }
       ],
       "layout": {
        "legend": {
         "tracegroupgap": 0
        },
        "margin": {
         "t": 60
        },
        "template": {
         "data": {
          "bar": [
           {
            "error_x": {
             "color": "#2a3f5f"
            },
            "error_y": {
             "color": "#2a3f5f"
            },
            "marker": {
             "line": {
              "color": "#E5ECF6",
              "width": 0.5
             },
             "pattern": {
              "fillmode": "overlay",
              "size": 10,
              "solidity": 0.2
             }
            },
            "type": "bar"
           }
          ],
          "barpolar": [
           {
            "marker": {
             "line": {
              "color": "#E5ECF6",
              "width": 0.5
             },
             "pattern": {
              "fillmode": "overlay",
              "size": 10,
              "solidity": 0.2
             }
            },
            "type": "barpolar"
           }
          ],
          "carpet": [
           {
            "aaxis": {
             "endlinecolor": "#2a3f5f",
             "gridcolor": "white",
             "linecolor": "white",
             "minorgridcolor": "white",
             "startlinecolor": "#2a3f5f"
            },
            "baxis": {
             "endlinecolor": "#2a3f5f",
             "gridcolor": "white",
             "linecolor": "white",
             "minorgridcolor": "white",
             "startlinecolor": "#2a3f5f"
            },
            "type": "carpet"
           }
          ],
          "choropleth": [
           {
            "colorbar": {
             "outlinewidth": 0,
             "ticks": ""
            },
            "type": "choropleth"
           }
          ],
          "contour": [
           {
            "colorbar": {
             "outlinewidth": 0,
             "ticks": ""
            },
            "colorscale": [
             [
              0,
              "#0d0887"
             ],
             [
              0.1111111111111111,
              "#46039f"
             ],
             [
              0.2222222222222222,
              "#7201a8"
             ],
             [
              0.3333333333333333,
              "#9c179e"
             ],
             [
              0.4444444444444444,
              "#bd3786"
             ],
             [
              0.5555555555555556,
              "#d8576b"
             ],
             [
              0.6666666666666666,
              "#ed7953"
             ],
             [
              0.7777777777777778,
              "#fb9f3a"
             ],
             [
              0.8888888888888888,
              "#fdca26"
             ],
             [
              1,
              "#f0f921"
             ]
            ],
            "type": "contour"
           }
          ],
          "contourcarpet": [
           {
            "colorbar": {
             "outlinewidth": 0,
             "ticks": ""
            },
            "type": "contourcarpet"
           }
          ],
          "heatmap": [
           {
            "colorbar": {
             "outlinewidth": 0,
             "ticks": ""
            },
            "colorscale": [
             [
              0,
              "#0d0887"
             ],
             [
              0.1111111111111111,
              "#46039f"
             ],
             [
              0.2222222222222222,
              "#7201a8"
             ],
             [
              0.3333333333333333,
              "#9c179e"
             ],
             [
              0.4444444444444444,
              "#bd3786"
             ],
             [
              0.5555555555555556,
              "#d8576b"
             ],
             [
              0.6666666666666666,
              "#ed7953"
             ],
             [
              0.7777777777777778,
              "#fb9f3a"
             ],
             [
              0.8888888888888888,
              "#fdca26"
             ],
             [
              1,
              "#f0f921"
             ]
            ],
            "type": "heatmap"
           }
          ],
          "heatmapgl": [
           {
            "colorbar": {
             "outlinewidth": 0,
             "ticks": ""
            },
            "colorscale": [
             [
              0,
              "#0d0887"
             ],
             [
              0.1111111111111111,
              "#46039f"
             ],
             [
              0.2222222222222222,
              "#7201a8"
             ],
             [
              0.3333333333333333,
              "#9c179e"
             ],
             [
              0.4444444444444444,
              "#bd3786"
             ],
             [
              0.5555555555555556,
              "#d8576b"
             ],
             [
              0.6666666666666666,
              "#ed7953"
             ],
             [
              0.7777777777777778,
              "#fb9f3a"
             ],
             [
              0.8888888888888888,
              "#fdca26"
             ],
             [
              1,
              "#f0f921"
             ]
            ],
            "type": "heatmapgl"
           }
          ],
          "histogram": [
           {
            "marker": {
             "pattern": {
              "fillmode": "overlay",
              "size": 10,
              "solidity": 0.2
             }
            },
            "type": "histogram"
           }
          ],
          "histogram2d": [
           {
            "colorbar": {
             "outlinewidth": 0,
             "ticks": ""
            },
            "colorscale": [
             [
              0,
              "#0d0887"
             ],
             [
              0.1111111111111111,
              "#46039f"
             ],
             [
              0.2222222222222222,
              "#7201a8"
             ],
             [
              0.3333333333333333,
              "#9c179e"
             ],
             [
              0.4444444444444444,
              "#bd3786"
             ],
             [
              0.5555555555555556,
              "#d8576b"
             ],
             [
              0.6666666666666666,
              "#ed7953"
             ],
             [
              0.7777777777777778,
              "#fb9f3a"
             ],
             [
              0.8888888888888888,
              "#fdca26"
             ],
             [
              1,
              "#f0f921"
             ]
            ],
            "type": "histogram2d"
           }
          ],
          "histogram2dcontour": [
           {
            "colorbar": {
             "outlinewidth": 0,
             "ticks": ""
            },
            "colorscale": [
             [
              0,
              "#0d0887"
             ],
             [
              0.1111111111111111,
              "#46039f"
             ],
             [
              0.2222222222222222,
              "#7201a8"
             ],
             [
              0.3333333333333333,
              "#9c179e"
             ],
             [
              0.4444444444444444,
              "#bd3786"
             ],
             [
              0.5555555555555556,
              "#d8576b"
             ],
             [
              0.6666666666666666,
              "#ed7953"
             ],
             [
              0.7777777777777778,
              "#fb9f3a"
             ],
             [
              0.8888888888888888,
              "#fdca26"
             ],
             [
              1,
              "#f0f921"
             ]
            ],
            "type": "histogram2dcontour"
           }
          ],
          "mesh3d": [
           {
            "colorbar": {
             "outlinewidth": 0,
             "ticks": ""
            },
            "type": "mesh3d"
           }
          ],
          "parcoords": [
           {
            "line": {
             "colorbar": {
              "outlinewidth": 0,
              "ticks": ""
             }
            },
            "type": "parcoords"
           }
          ],
          "pie": [
           {
            "automargin": true,
            "type": "pie"
           }
          ],
          "scatter": [
           {
            "fillpattern": {
             "fillmode": "overlay",
             "size": 10,
             "solidity": 0.2
            },
            "type": "scatter"
           }
          ],
          "scatter3d": [
           {
            "line": {
             "colorbar": {
              "outlinewidth": 0,
              "ticks": ""
             }
            },
            "marker": {
             "colorbar": {
              "outlinewidth": 0,
              "ticks": ""
             }
            },
            "type": "scatter3d"
           }
          ],
          "scattercarpet": [
           {
            "marker": {
             "colorbar": {
              "outlinewidth": 0,
              "ticks": ""
             }
            },
            "type": "scattercarpet"
           }
          ],
          "scattergeo": [
           {
            "marker": {
             "colorbar": {
              "outlinewidth": 0,
              "ticks": ""
             }
            },
            "type": "scattergeo"
           }
          ],
          "scattergl": [
           {
            "marker": {
             "colorbar": {
              "outlinewidth": 0,
              "ticks": ""
             }
            },
            "type": "scattergl"
           }
          ],
          "scattermapbox": [
           {
            "marker": {
             "colorbar": {
              "outlinewidth": 0,
              "ticks": ""
             }
            },
            "type": "scattermapbox"
           }
          ],
          "scatterpolar": [
           {
            "marker": {
             "colorbar": {
              "outlinewidth": 0,
              "ticks": ""
             }
            },
            "type": "scatterpolar"
           }
          ],
          "scatterpolargl": [
           {
            "marker": {
             "colorbar": {
              "outlinewidth": 0,
              "ticks": ""
             }
            },
            "type": "scatterpolargl"
           }
          ],
          "scatterternary": [
           {
            "marker": {
             "colorbar": {
              "outlinewidth": 0,
              "ticks": ""
             }
            },
            "type": "scatterternary"
           }
          ],
          "surface": [
           {
            "colorbar": {
             "outlinewidth": 0,
             "ticks": ""
            },
            "colorscale": [
             [
              0,
              "#0d0887"
             ],
             [
              0.1111111111111111,
              "#46039f"
             ],
             [
              0.2222222222222222,
              "#7201a8"
             ],
             [
              0.3333333333333333,
              "#9c179e"
             ],
             [
              0.4444444444444444,
              "#bd3786"
             ],
             [
              0.5555555555555556,
              "#d8576b"
             ],
             [
              0.6666666666666666,
              "#ed7953"
             ],
             [
              0.7777777777777778,
              "#fb9f3a"
             ],
             [
              0.8888888888888888,
              "#fdca26"
             ],
             [
              1,
              "#f0f921"
             ]
            ],
            "type": "surface"
           }
          ],
          "table": [
           {
            "cells": {
             "fill": {
              "color": "#EBF0F8"
             },
             "line": {
              "color": "white"
             }
            },
            "header": {
             "fill": {
              "color": "#C8D4E3"
             },
             "line": {
              "color": "white"
             }
            },
            "type": "table"
           }
          ]
         },
         "layout": {
          "annotationdefaults": {
           "arrowcolor": "#2a3f5f",
           "arrowhead": 0,
           "arrowwidth": 1
          },
          "autotypenumbers": "strict",
          "coloraxis": {
           "colorbar": {
            "outlinewidth": 0,
            "ticks": ""
           }
          },
          "colorscale": {
           "diverging": [
            [
             0,
             "#8e0152"
            ],
            [
             0.1,
             "#c51b7d"
            ],
            [
             0.2,
             "#de77ae"
            ],
            [
             0.3,
             "#f1b6da"
            ],
            [
             0.4,
             "#fde0ef"
            ],
            [
             0.5,
             "#f7f7f7"
            ],
            [
             0.6,
             "#e6f5d0"
            ],
            [
             0.7,
             "#b8e186"
            ],
            [
             0.8,
             "#7fbc41"
            ],
            [
             0.9,
             "#4d9221"
            ],
            [
             1,
             "#276419"
            ]
           ],
           "sequential": [
            [
             0,
             "#0d0887"
            ],
            [
             0.1111111111111111,
             "#46039f"
            ],
            [
             0.2222222222222222,
             "#7201a8"
            ],
            [
             0.3333333333333333,
             "#9c179e"
            ],
            [
             0.4444444444444444,
             "#bd3786"
            ],
            [
             0.5555555555555556,
             "#d8576b"
            ],
            [
             0.6666666666666666,
             "#ed7953"
            ],
            [
             0.7777777777777778,
             "#fb9f3a"
            ],
            [
             0.8888888888888888,
             "#fdca26"
            ],
            [
             1,
             "#f0f921"
            ]
           ],
           "sequentialminus": [
            [
             0,
             "#0d0887"
            ],
            [
             0.1111111111111111,
             "#46039f"
            ],
            [
             0.2222222222222222,
             "#7201a8"
            ],
            [
             0.3333333333333333,
             "#9c179e"
            ],
            [
             0.4444444444444444,
             "#bd3786"
            ],
            [
             0.5555555555555556,
             "#d8576b"
            ],
            [
             0.6666666666666666,
             "#ed7953"
            ],
            [
             0.7777777777777778,
             "#fb9f3a"
            ],
            [
             0.8888888888888888,
             "#fdca26"
            ],
            [
             1,
             "#f0f921"
            ]
           ]
          },
          "colorway": [
           "#636efa",
           "#EF553B",
           "#00cc96",
           "#ab63fa",
           "#FFA15A",
           "#19d3f3",
           "#FF6692",
           "#B6E880",
           "#FF97FF",
           "#FECB52"
          ],
          "font": {
           "color": "#2a3f5f"
          },
          "geo": {
           "bgcolor": "white",
           "lakecolor": "white",
           "landcolor": "#E5ECF6",
           "showlakes": true,
           "showland": true,
           "subunitcolor": "white"
          },
          "hoverlabel": {
           "align": "left"
          },
          "hovermode": "closest",
          "mapbox": {
           "style": "light"
          },
          "paper_bgcolor": "white",
          "plot_bgcolor": "#E5ECF6",
          "polar": {
           "angularaxis": {
            "gridcolor": "white",
            "linecolor": "white",
            "ticks": ""
           },
           "bgcolor": "#E5ECF6",
           "radialaxis": {
            "gridcolor": "white",
            "linecolor": "white",
            "ticks": ""
           }
          },
          "scene": {
           "xaxis": {
            "backgroundcolor": "#E5ECF6",
            "gridcolor": "white",
            "gridwidth": 2,
            "linecolor": "white",
            "showbackground": true,
            "ticks": "",
            "zerolinecolor": "white"
           },
           "yaxis": {
            "backgroundcolor": "#E5ECF6",
            "gridcolor": "white",
            "gridwidth": 2,
            "linecolor": "white",
            "showbackground": true,
            "ticks": "",
            "zerolinecolor": "white"
           },
           "zaxis": {
            "backgroundcolor": "#E5ECF6",
            "gridcolor": "white",
            "gridwidth": 2,
            "linecolor": "white",
            "showbackground": true,
            "ticks": "",
            "zerolinecolor": "white"
           }
          },
          "shapedefaults": {
           "line": {
            "color": "#2a3f5f"
           }
          },
          "ternary": {
           "aaxis": {
            "gridcolor": "white",
            "linecolor": "white",
            "ticks": ""
           },
           "baxis": {
            "gridcolor": "white",
            "linecolor": "white",
            "ticks": ""
           },
           "bgcolor": "#E5ECF6",
           "caxis": {
            "gridcolor": "white",
            "linecolor": "white",
            "ticks": ""
           }
          },
          "title": {
           "x": 0.05
          },
          "xaxis": {
           "automargin": true,
           "gridcolor": "white",
           "linecolor": "white",
           "ticks": "",
           "title": {
            "standoff": 15
           },
           "zerolinecolor": "white",
           "zerolinewidth": 2
          },
          "yaxis": {
           "automargin": true,
           "gridcolor": "white",
           "linecolor": "white",
           "ticks": "",
           "title": {
            "standoff": 15
           },
           "zerolinecolor": "white",
           "zerolinewidth": 2
          }
         }
        },
        "xaxis": {
         "anchor": "y",
         "domain": [
          0,
          1
         ],
         "title": {
          "text": "x"
         }
        },
        "yaxis": {
         "anchor": "x",
         "domain": [
          0,
          1
         ],
         "title": {
          "text": "y"
         }
        }
       }
      }
     },
     "metadata": {},
     "output_type": "display_data"
    }
   ],
   "source": [
    "grafico = px.scatter(x=x_random[:,0], y=x_random[:,1])\n",
    "\n",
    "grafico.show()"
   ]
  },
  {
   "cell_type": "markdown",
   "id": "d0695aff",
   "metadata": {},
   "source": [
    "# Criando o Algorítmo K-means"
   ]
  },
  {
   "cell_type": "code",
   "execution_count": 24,
   "id": "d00601ed",
   "metadata": {},
   "outputs": [
    {
     "data": {
      "text/html": [
       "<style>#sk-container-id-1 {\n",
       "  /* Definition of color scheme common for light and dark mode */\n",
       "  --sklearn-color-text: #000;\n",
       "  --sklearn-color-text-muted: #666;\n",
       "  --sklearn-color-line: gray;\n",
       "  /* Definition of color scheme for unfitted estimators */\n",
       "  --sklearn-color-unfitted-level-0: #fff5e6;\n",
       "  --sklearn-color-unfitted-level-1: #f6e4d2;\n",
       "  --sklearn-color-unfitted-level-2: #ffe0b3;\n",
       "  --sklearn-color-unfitted-level-3: chocolate;\n",
       "  /* Definition of color scheme for fitted estimators */\n",
       "  --sklearn-color-fitted-level-0: #f0f8ff;\n",
       "  --sklearn-color-fitted-level-1: #d4ebff;\n",
       "  --sklearn-color-fitted-level-2: #b3dbfd;\n",
       "  --sklearn-color-fitted-level-3: cornflowerblue;\n",
       "\n",
       "  /* Specific color for light theme */\n",
       "  --sklearn-color-text-on-default-background: var(--sg-text-color, var(--theme-code-foreground, var(--jp-content-font-color1, black)));\n",
       "  --sklearn-color-background: var(--sg-background-color, var(--theme-background, var(--jp-layout-color0, white)));\n",
       "  --sklearn-color-border-box: var(--sg-text-color, var(--theme-code-foreground, var(--jp-content-font-color1, black)));\n",
       "  --sklearn-color-icon: #696969;\n",
       "\n",
       "  @media (prefers-color-scheme: dark) {\n",
       "    /* Redefinition of color scheme for dark theme */\n",
       "    --sklearn-color-text-on-default-background: var(--sg-text-color, var(--theme-code-foreground, var(--jp-content-font-color1, white)));\n",
       "    --sklearn-color-background: var(--sg-background-color, var(--theme-background, var(--jp-layout-color0, #111)));\n",
       "    --sklearn-color-border-box: var(--sg-text-color, var(--theme-code-foreground, var(--jp-content-font-color1, white)));\n",
       "    --sklearn-color-icon: #878787;\n",
       "  }\n",
       "}\n",
       "\n",
       "#sk-container-id-1 {\n",
       "  color: var(--sklearn-color-text);\n",
       "}\n",
       "\n",
       "#sk-container-id-1 pre {\n",
       "  padding: 0;\n",
       "}\n",
       "\n",
       "#sk-container-id-1 input.sk-hidden--visually {\n",
       "  border: 0;\n",
       "  clip: rect(1px 1px 1px 1px);\n",
       "  clip: rect(1px, 1px, 1px, 1px);\n",
       "  height: 1px;\n",
       "  margin: -1px;\n",
       "  overflow: hidden;\n",
       "  padding: 0;\n",
       "  position: absolute;\n",
       "  width: 1px;\n",
       "}\n",
       "\n",
       "#sk-container-id-1 div.sk-dashed-wrapped {\n",
       "  border: 1px dashed var(--sklearn-color-line);\n",
       "  margin: 0 0.4em 0.5em 0.4em;\n",
       "  box-sizing: border-box;\n",
       "  padding-bottom: 0.4em;\n",
       "  background-color: var(--sklearn-color-background);\n",
       "}\n",
       "\n",
       "#sk-container-id-1 div.sk-container {\n",
       "  /* jupyter's `normalize.less` sets `[hidden] { display: none; }`\n",
       "     but bootstrap.min.css set `[hidden] { display: none !important; }`\n",
       "     so we also need the `!important` here to be able to override the\n",
       "     default hidden behavior on the sphinx rendered scikit-learn.org.\n",
       "     See: https://github.com/scikit-learn/scikit-learn/issues/21755 */\n",
       "  display: inline-block !important;\n",
       "  position: relative;\n",
       "}\n",
       "\n",
       "#sk-container-id-1 div.sk-text-repr-fallback {\n",
       "  display: none;\n",
       "}\n",
       "\n",
       "div.sk-parallel-item,\n",
       "div.sk-serial,\n",
       "div.sk-item {\n",
       "  /* draw centered vertical line to link estimators */\n",
       "  background-image: linear-gradient(var(--sklearn-color-text-on-default-background), var(--sklearn-color-text-on-default-background));\n",
       "  background-size: 2px 100%;\n",
       "  background-repeat: no-repeat;\n",
       "  background-position: center center;\n",
       "}\n",
       "\n",
       "/* Parallel-specific style estimator block */\n",
       "\n",
       "#sk-container-id-1 div.sk-parallel-item::after {\n",
       "  content: \"\";\n",
       "  width: 100%;\n",
       "  border-bottom: 2px solid var(--sklearn-color-text-on-default-background);\n",
       "  flex-grow: 1;\n",
       "}\n",
       "\n",
       "#sk-container-id-1 div.sk-parallel {\n",
       "  display: flex;\n",
       "  align-items: stretch;\n",
       "  justify-content: center;\n",
       "  background-color: var(--sklearn-color-background);\n",
       "  position: relative;\n",
       "}\n",
       "\n",
       "#sk-container-id-1 div.sk-parallel-item {\n",
       "  display: flex;\n",
       "  flex-direction: column;\n",
       "}\n",
       "\n",
       "#sk-container-id-1 div.sk-parallel-item:first-child::after {\n",
       "  align-self: flex-end;\n",
       "  width: 50%;\n",
       "}\n",
       "\n",
       "#sk-container-id-1 div.sk-parallel-item:last-child::after {\n",
       "  align-self: flex-start;\n",
       "  width: 50%;\n",
       "}\n",
       "\n",
       "#sk-container-id-1 div.sk-parallel-item:only-child::after {\n",
       "  width: 0;\n",
       "}\n",
       "\n",
       "/* Serial-specific style estimator block */\n",
       "\n",
       "#sk-container-id-1 div.sk-serial {\n",
       "  display: flex;\n",
       "  flex-direction: column;\n",
       "  align-items: center;\n",
       "  background-color: var(--sklearn-color-background);\n",
       "  padding-right: 1em;\n",
       "  padding-left: 1em;\n",
       "}\n",
       "\n",
       "\n",
       "/* Toggleable style: style used for estimator/Pipeline/ColumnTransformer box that is\n",
       "clickable and can be expanded/collapsed.\n",
       "- Pipeline and ColumnTransformer use this feature and define the default style\n",
       "- Estimators will overwrite some part of the style using the `sk-estimator` class\n",
       "*/\n",
       "\n",
       "/* Pipeline and ColumnTransformer style (default) */\n",
       "\n",
       "#sk-container-id-1 div.sk-toggleable {\n",
       "  /* Default theme specific background. It is overwritten whether we have a\n",
       "  specific estimator or a Pipeline/ColumnTransformer */\n",
       "  background-color: var(--sklearn-color-background);\n",
       "}\n",
       "\n",
       "/* Toggleable label */\n",
       "#sk-container-id-1 label.sk-toggleable__label {\n",
       "  cursor: pointer;\n",
       "  display: flex;\n",
       "  width: 100%;\n",
       "  margin-bottom: 0;\n",
       "  padding: 0.5em;\n",
       "  box-sizing: border-box;\n",
       "  text-align: center;\n",
       "  align-items: start;\n",
       "  justify-content: space-between;\n",
       "  gap: 0.5em;\n",
       "}\n",
       "\n",
       "#sk-container-id-1 label.sk-toggleable__label .caption {\n",
       "  font-size: 0.6rem;\n",
       "  font-weight: lighter;\n",
       "  color: var(--sklearn-color-text-muted);\n",
       "}\n",
       "\n",
       "#sk-container-id-1 label.sk-toggleable__label-arrow:before {\n",
       "  /* Arrow on the left of the label */\n",
       "  content: \"▸\";\n",
       "  float: left;\n",
       "  margin-right: 0.25em;\n",
       "  color: var(--sklearn-color-icon);\n",
       "}\n",
       "\n",
       "#sk-container-id-1 label.sk-toggleable__label-arrow:hover:before {\n",
       "  color: var(--sklearn-color-text);\n",
       "}\n",
       "\n",
       "/* Toggleable content - dropdown */\n",
       "\n",
       "#sk-container-id-1 div.sk-toggleable__content {\n",
       "  max-height: 0;\n",
       "  max-width: 0;\n",
       "  overflow: hidden;\n",
       "  text-align: left;\n",
       "  /* unfitted */\n",
       "  background-color: var(--sklearn-color-unfitted-level-0);\n",
       "}\n",
       "\n",
       "#sk-container-id-1 div.sk-toggleable__content.fitted {\n",
       "  /* fitted */\n",
       "  background-color: var(--sklearn-color-fitted-level-0);\n",
       "}\n",
       "\n",
       "#sk-container-id-1 div.sk-toggleable__content pre {\n",
       "  margin: 0.2em;\n",
       "  border-radius: 0.25em;\n",
       "  color: var(--sklearn-color-text);\n",
       "  /* unfitted */\n",
       "  background-color: var(--sklearn-color-unfitted-level-0);\n",
       "}\n",
       "\n",
       "#sk-container-id-1 div.sk-toggleable__content.fitted pre {\n",
       "  /* unfitted */\n",
       "  background-color: var(--sklearn-color-fitted-level-0);\n",
       "}\n",
       "\n",
       "#sk-container-id-1 input.sk-toggleable__control:checked~div.sk-toggleable__content {\n",
       "  /* Expand drop-down */\n",
       "  max-height: 200px;\n",
       "  max-width: 100%;\n",
       "  overflow: auto;\n",
       "}\n",
       "\n",
       "#sk-container-id-1 input.sk-toggleable__control:checked~label.sk-toggleable__label-arrow:before {\n",
       "  content: \"▾\";\n",
       "}\n",
       "\n",
       "/* Pipeline/ColumnTransformer-specific style */\n",
       "\n",
       "#sk-container-id-1 div.sk-label input.sk-toggleable__control:checked~label.sk-toggleable__label {\n",
       "  color: var(--sklearn-color-text);\n",
       "  background-color: var(--sklearn-color-unfitted-level-2);\n",
       "}\n",
       "\n",
       "#sk-container-id-1 div.sk-label.fitted input.sk-toggleable__control:checked~label.sk-toggleable__label {\n",
       "  background-color: var(--sklearn-color-fitted-level-2);\n",
       "}\n",
       "\n",
       "/* Estimator-specific style */\n",
       "\n",
       "/* Colorize estimator box */\n",
       "#sk-container-id-1 div.sk-estimator input.sk-toggleable__control:checked~label.sk-toggleable__label {\n",
       "  /* unfitted */\n",
       "  background-color: var(--sklearn-color-unfitted-level-2);\n",
       "}\n",
       "\n",
       "#sk-container-id-1 div.sk-estimator.fitted input.sk-toggleable__control:checked~label.sk-toggleable__label {\n",
       "  /* fitted */\n",
       "  background-color: var(--sklearn-color-fitted-level-2);\n",
       "}\n",
       "\n",
       "#sk-container-id-1 div.sk-label label.sk-toggleable__label,\n",
       "#sk-container-id-1 div.sk-label label {\n",
       "  /* The background is the default theme color */\n",
       "  color: var(--sklearn-color-text-on-default-background);\n",
       "}\n",
       "\n",
       "/* On hover, darken the color of the background */\n",
       "#sk-container-id-1 div.sk-label:hover label.sk-toggleable__label {\n",
       "  color: var(--sklearn-color-text);\n",
       "  background-color: var(--sklearn-color-unfitted-level-2);\n",
       "}\n",
       "\n",
       "/* Label box, darken color on hover, fitted */\n",
       "#sk-container-id-1 div.sk-label.fitted:hover label.sk-toggleable__label.fitted {\n",
       "  color: var(--sklearn-color-text);\n",
       "  background-color: var(--sklearn-color-fitted-level-2);\n",
       "}\n",
       "\n",
       "/* Estimator label */\n",
       "\n",
       "#sk-container-id-1 div.sk-label label {\n",
       "  font-family: monospace;\n",
       "  font-weight: bold;\n",
       "  display: inline-block;\n",
       "  line-height: 1.2em;\n",
       "}\n",
       "\n",
       "#sk-container-id-1 div.sk-label-container {\n",
       "  text-align: center;\n",
       "}\n",
       "\n",
       "/* Estimator-specific */\n",
       "#sk-container-id-1 div.sk-estimator {\n",
       "  font-family: monospace;\n",
       "  border: 1px dotted var(--sklearn-color-border-box);\n",
       "  border-radius: 0.25em;\n",
       "  box-sizing: border-box;\n",
       "  margin-bottom: 0.5em;\n",
       "  /* unfitted */\n",
       "  background-color: var(--sklearn-color-unfitted-level-0);\n",
       "}\n",
       "\n",
       "#sk-container-id-1 div.sk-estimator.fitted {\n",
       "  /* fitted */\n",
       "  background-color: var(--sklearn-color-fitted-level-0);\n",
       "}\n",
       "\n",
       "/* on hover */\n",
       "#sk-container-id-1 div.sk-estimator:hover {\n",
       "  /* unfitted */\n",
       "  background-color: var(--sklearn-color-unfitted-level-2);\n",
       "}\n",
       "\n",
       "#sk-container-id-1 div.sk-estimator.fitted:hover {\n",
       "  /* fitted */\n",
       "  background-color: var(--sklearn-color-fitted-level-2);\n",
       "}\n",
       "\n",
       "/* Specification for estimator info (e.g. \"i\" and \"?\") */\n",
       "\n",
       "/* Common style for \"i\" and \"?\" */\n",
       "\n",
       ".sk-estimator-doc-link,\n",
       "a:link.sk-estimator-doc-link,\n",
       "a:visited.sk-estimator-doc-link {\n",
       "  float: right;\n",
       "  font-size: smaller;\n",
       "  line-height: 1em;\n",
       "  font-family: monospace;\n",
       "  background-color: var(--sklearn-color-background);\n",
       "  border-radius: 1em;\n",
       "  height: 1em;\n",
       "  width: 1em;\n",
       "  text-decoration: none !important;\n",
       "  margin-left: 0.5em;\n",
       "  text-align: center;\n",
       "  /* unfitted */\n",
       "  border: var(--sklearn-color-unfitted-level-1) 1pt solid;\n",
       "  color: var(--sklearn-color-unfitted-level-1);\n",
       "}\n",
       "\n",
       ".sk-estimator-doc-link.fitted,\n",
       "a:link.sk-estimator-doc-link.fitted,\n",
       "a:visited.sk-estimator-doc-link.fitted {\n",
       "  /* fitted */\n",
       "  border: var(--sklearn-color-fitted-level-1) 1pt solid;\n",
       "  color: var(--sklearn-color-fitted-level-1);\n",
       "}\n",
       "\n",
       "/* On hover */\n",
       "div.sk-estimator:hover .sk-estimator-doc-link:hover,\n",
       ".sk-estimator-doc-link:hover,\n",
       "div.sk-label-container:hover .sk-estimator-doc-link:hover,\n",
       ".sk-estimator-doc-link:hover {\n",
       "  /* unfitted */\n",
       "  background-color: var(--sklearn-color-unfitted-level-3);\n",
       "  color: var(--sklearn-color-background);\n",
       "  text-decoration: none;\n",
       "}\n",
       "\n",
       "div.sk-estimator.fitted:hover .sk-estimator-doc-link.fitted:hover,\n",
       ".sk-estimator-doc-link.fitted:hover,\n",
       "div.sk-label-container:hover .sk-estimator-doc-link.fitted:hover,\n",
       ".sk-estimator-doc-link.fitted:hover {\n",
       "  /* fitted */\n",
       "  background-color: var(--sklearn-color-fitted-level-3);\n",
       "  color: var(--sklearn-color-background);\n",
       "  text-decoration: none;\n",
       "}\n",
       "\n",
       "/* Span, style for the box shown on hovering the info icon */\n",
       ".sk-estimator-doc-link span {\n",
       "  display: none;\n",
       "  z-index: 9999;\n",
       "  position: relative;\n",
       "  font-weight: normal;\n",
       "  right: .2ex;\n",
       "  padding: .5ex;\n",
       "  margin: .5ex;\n",
       "  width: min-content;\n",
       "  min-width: 20ex;\n",
       "  max-width: 50ex;\n",
       "  color: var(--sklearn-color-text);\n",
       "  box-shadow: 2pt 2pt 4pt #999;\n",
       "  /* unfitted */\n",
       "  background: var(--sklearn-color-unfitted-level-0);\n",
       "  border: .5pt solid var(--sklearn-color-unfitted-level-3);\n",
       "}\n",
       "\n",
       ".sk-estimator-doc-link.fitted span {\n",
       "  /* fitted */\n",
       "  background: var(--sklearn-color-fitted-level-0);\n",
       "  border: var(--sklearn-color-fitted-level-3);\n",
       "}\n",
       "\n",
       ".sk-estimator-doc-link:hover span {\n",
       "  display: block;\n",
       "}\n",
       "\n",
       "/* \"?\"-specific style due to the `<a>` HTML tag */\n",
       "\n",
       "#sk-container-id-1 a.estimator_doc_link {\n",
       "  float: right;\n",
       "  font-size: 1rem;\n",
       "  line-height: 1em;\n",
       "  font-family: monospace;\n",
       "  background-color: var(--sklearn-color-background);\n",
       "  border-radius: 1rem;\n",
       "  height: 1rem;\n",
       "  width: 1rem;\n",
       "  text-decoration: none;\n",
       "  /* unfitted */\n",
       "  color: var(--sklearn-color-unfitted-level-1);\n",
       "  border: var(--sklearn-color-unfitted-level-1) 1pt solid;\n",
       "}\n",
       "\n",
       "#sk-container-id-1 a.estimator_doc_link.fitted {\n",
       "  /* fitted */\n",
       "  border: var(--sklearn-color-fitted-level-1) 1pt solid;\n",
       "  color: var(--sklearn-color-fitted-level-1);\n",
       "}\n",
       "\n",
       "/* On hover */\n",
       "#sk-container-id-1 a.estimator_doc_link:hover {\n",
       "  /* unfitted */\n",
       "  background-color: var(--sklearn-color-unfitted-level-3);\n",
       "  color: var(--sklearn-color-background);\n",
       "  text-decoration: none;\n",
       "}\n",
       "\n",
       "#sk-container-id-1 a.estimator_doc_link.fitted:hover {\n",
       "  /* fitted */\n",
       "  background-color: var(--sklearn-color-fitted-level-3);\n",
       "}\n",
       "</style><div id=\"sk-container-id-1\" class=\"sk-top-container\"><div class=\"sk-text-repr-fallback\"><pre>KMeans(n_clusters=5)</pre><b>In a Jupyter environment, please rerun this cell to show the HTML representation or trust the notebook. <br />On GitHub, the HTML representation is unable to render, please try loading this page with nbviewer.org.</b></div><div class=\"sk-container\" hidden><div class=\"sk-item\"><div class=\"sk-estimator fitted sk-toggleable\"><input class=\"sk-toggleable__control sk-hidden--visually\" id=\"sk-estimator-id-1\" type=\"checkbox\" checked><label for=\"sk-estimator-id-1\" class=\"sk-toggleable__label fitted sk-toggleable__label-arrow\"><div><div>KMeans</div></div><div><a class=\"sk-estimator-doc-link fitted\" rel=\"noreferrer\" target=\"_blank\" href=\"https://scikit-learn.org/1.6/modules/generated/sklearn.cluster.KMeans.html\">?<span>Documentation for KMeans</span></a><span class=\"sk-estimator-doc-link fitted\">i<span>Fitted</span></span></div></label><div class=\"sk-toggleable__content fitted\"><pre>KMeans(n_clusters=5)</pre></div> </div></div></div></div>"
      ],
      "text/plain": [
       "KMeans(n_clusters=5)"
      ]
     },
     "execution_count": 24,
     "metadata": {},
     "output_type": "execute_result"
    }
   ],
   "source": [
    "kmeans_blobs = KMeans(n_clusters=5)\n",
    "kmeans_blobs.fit(x_random)"
   ]
  },
  {
   "cell_type": "code",
   "execution_count": 25,
   "id": "2c5fc9eb",
   "metadata": {},
   "outputs": [
    {
     "data": {
      "text/plain": [
       "array([0, 0, 0, 0, 1, 0, 2, 1, 2, 0, 3, 0, 3, 0, 3, 2, 3, 2, 4, 0, 0, 0,\n",
       "       0, 4, 2, 0, 2, 1, 0, 2, 0, 2, 2, 1, 1, 1, 0, 2, 3, 2, 4, 3, 0, 1,\n",
       "       3, 3, 2, 0, 0, 2, 3, 3, 2, 1, 3, 4, 3, 4, 0, 3, 0, 0, 2, 0, 2, 0,\n",
       "       2, 1, 4, 2, 2, 0, 0, 3, 2, 3, 3, 1, 3, 1, 0, 4, 2, 3, 3, 0, 0, 1,\n",
       "       1, 0, 1, 0, 3, 0, 0, 0, 3, 2, 3, 0, 1, 0, 0, 0, 0, 0, 2, 0, 0, 2,\n",
       "       2, 3, 4, 3, 4, 4, 3, 4, 0, 2, 2, 0, 3, 0, 2, 3, 0, 0, 2, 0, 1, 0,\n",
       "       4, 3, 2, 3, 1, 1, 1, 3, 0, 4, 3, 0, 0, 0, 0, 3, 0, 2, 3, 0, 3, 3,\n",
       "       0, 2, 0, 0, 2, 3, 1, 3, 2, 0, 3, 2, 4, 0, 3, 1, 0, 0, 3, 1, 0, 0,\n",
       "       0, 3, 0, 4, 3, 2, 0, 0, 1, 3, 0, 0, 3, 0, 2, 3, 3, 0, 2, 1, 4, 2,\n",
       "       2, 0])"
      ]
     },
     "execution_count": 25,
     "metadata": {},
     "output_type": "execute_result"
    }
   ],
   "source": [
    "rotulos = kmeans_blobs.predict(x_random)\n",
    "rotulos"
   ]
  },
  {
   "cell_type": "code",
   "execution_count": 26,
   "id": "95e1d8ef",
   "metadata": {},
   "outputs": [
    {
     "data": {
      "text/plain": [
       "array([[-8.09496313, -4.01758102],\n",
       "       [ 7.54095708,  7.59089463],\n",
       "       [ 0.88791519,  4.15600929],\n",
       "       [-4.8849543 ,  0.31096108],\n",
       "       [ 8.63212551,  9.11334532]])"
      ]
     },
     "execution_count": 26,
     "metadata": {},
     "output_type": "execute_result"
    }
   ],
   "source": [
    "centroides = kmeans_blobs.cluster_centers_\n",
    "centroides"
   ]
  },
  {
   "cell_type": "code",
   "execution_count": 27,
   "id": "17e7b49e",
   "metadata": {},
   "outputs": [
    {
     "data": {
      "application/vnd.plotly.v1+json": {
       "config": {
        "plotlyServerURL": "https://plot.ly"
       },
       "data": [
        {
         "hovertemplate": "x=%{x}<br>y=%{y}<br>color=%{marker.color}<extra></extra>",
         "legendgroup": "",
         "marker": {
          "color": [
           0,
           0,
           0,
           0,
           1,
           0,
           2,
           1,
           2,
           0,
           3,
           0,
           3,
           0,
           3,
           2,
           3,
           2,
           4,
           0,
           0,
           0,
           0,
           4,
           2,
           0,
           2,
           1,
           0,
           2,
           0,
           2,
           2,
           1,
           1,
           1,
           0,
           2,
           3,
           2,
           4,
           3,
           0,
           1,
           3,
           3,
           2,
           0,
           0,
           2,
           3,
           3,
           2,
           1,
           3,
           4,
           3,
           4,
           0,
           3,
           0,
           0,
           2,
           0,
           2,
           0,
           2,
           1,
           4,
           2,
           2,
           0,
           0,
           3,
           2,
           3,
           3,
           1,
           3,
           1,
           0,
           4,
           2,
           3,
           3,
           0,
           0,
           1,
           1,
           0,
           1,
           0,
           3,
           0,
           0,
           0,
           3,
           2,
           3,
           0,
           1,
           0,
           0,
           0,
           0,
           0,
           2,
           0,
           0,
           2,
           2,
           3,
           4,
           3,
           4,
           4,
           3,
           4,
           0,
           2,
           2,
           0,
           3,
           0,
           2,
           3,
           0,
           0,
           2,
           0,
           1,
           0,
           4,
           3,
           2,
           3,
           1,
           1,
           1,
           3,
           0,
           4,
           3,
           0,
           0,
           0,
           0,
           3,
           0,
           2,
           3,
           0,
           3,
           3,
           0,
           2,
           0,
           0,
           2,
           3,
           1,
           3,
           2,
           0,
           3,
           2,
           4,
           0,
           3,
           1,
           0,
           0,
           3,
           1,
           0,
           0,
           0,
           3,
           0,
           4,
           3,
           2,
           0,
           0,
           1,
           3,
           0,
           0,
           3,
           0,
           2,
           3,
           3,
           0,
           2,
           1,
           4,
           2,
           2,
           0
          ],
          "coloraxis": "coloraxis",
          "symbol": "circle"
         },
         "mode": "markers",
         "name": "",
         "orientation": "v",
         "showlegend": false,
         "type": "scatter",
         "x": [
          -9.966450178440919,
          -5.768817235434638,
          -7.725631266254367,
          -7.8178719435676385,
          7.347810094400179,
          -8.059642752652051,
          0.14207575372920977,
          8.506768884362952,
          -0.16908847552866368,
          -8.034023360973194,
          -3.34606131955914,
          -7.205633483346732,
          -4.259346182301052,
          -8.843347409743844,
          -4.3499953203630275,
          1.1689037542539908,
          -3.956154955495293,
          2.503501183484049,
          8.948348635139393,
          -7.6727783201249435,
          -7.854710749401578,
          -5.6491419035359565,
          -7.1254903045061395,
          9.847428766763644,
          2.0291414933780034,
          -8.103402355137787,
          0.09216602979572064,
          7.53735439386091,
          -8.518003316036552,
          1.8617914585486912,
          -6.792809807637712,
          2.5021064065660994,
          -0.35471096106050726,
          8.721771181915859,
          8.247189501237987,
          5.828545533174795,
          -6.4184954322662815,
          0.3412305411797958,
          -5.14190140196833,
          0.8185433723332594,
          7.209221666206068,
          -3.536843236757204,
          -9.012500162164224,
          7.428049031567491,
          -4.935240015338585,
          -3.3670906804897878,
          1.897276093699039,
          -9.969022812603189,
          -8.812782488018136,
          0.8614511995922217,
          -2.9484341772879565,
          -4.322525248757032,
          0.21219195691493276,
          7.729578077202039,
          -4.698553146539263,
          8.897891204307548,
          -5.402807141637246,
          8.452527201744214,
          -8.687470012202912,
          -4.907338702139626,
          -7.366044045358217,
          -7.517079436335433,
          1.4997463990920394,
          -9.44655532089293,
          0.6596872920447643,
          -6.583765303964543,
          -0.008972823116577322,
          6.62330246284697,
          9.006203880065705,
          1.76101431789688,
          1.630035139245603,
          -4.77636745619327,
          -10.109752732794849,
          -5.016145072412898,
          0.24712170117227916,
          -4.053897400625012,
          -7.097642973533825,
          7.840311371396134,
          -4.707169866896747,
          8.304720045606235,
          -7.200736140356919,
          8.62790424464478,
          1.4539046627715912,
          -4.179461059751878,
          -8.682972210264955,
          -10.915728196157145,
          -7.47913358765554,
          7.9924361279759,
          7.509903693970563,
          -8.651459758107798,
          7.731177029067234,
          -7.137477949760727,
          -4.830316110047595,
          -8.337901150436286,
          -10.857492859344207,
          -9.597070437469279,
          -5.044213708677987,
          -0.37980545114916575,
          -3.7559384718913287,
          -9.84081512402106,
          7.2704374672736645,
          -9.54118822908635,
          -8.453858379880083,
          -8.34382651170654,
          -8.879621422406068,
          -8.55227491136473,
          1.6412030176543384,
          -8.908165097051459,
          -5.869055306126292,
          0.9721398825155809,
          -0.29790670187117296,
          -3.3303862712564047,
          8.926154637689397,
          -7.1098442648073075,
          9.58835651616339,
          10.670817461958967,
          -4.712487366096218,
          7.271718774624781,
          -6.626936176839501,
          0.9918535814202791,
          2.1241455514265017,
          -8.879939160954756,
          -4.261646159926685,
          -8.734250338352451,
          0.4130729474842909,
          -4.756613642233818,
          -7.644812604951358,
          -10.256885261610776,
          -0.22816527746442783,
          -5.985031838017789,
          6.788353587800589,
          -7.542241639913763,
          8.96286075155809,
          -5.088399922315441,
          -1.2322997160850968,
          -8.976954712940737,
          8.25206436821116,
          7.763701488252469,
          7.58433896663119,
          -4.598103236871261,
          -8.885691876162511,
          7.691240484186629,
          -8.116692562327014,
          -7.413565996773338,
          -9.3398336791668,
          -8.127084687100911,
          -8.47507553880651,
          -4.772983960226989,
          -5.468643148627921,
          1.9983254857496693,
          -4.639166008879419,
          -7.550313628824105,
          -4.482111296260664,
          -8.739255172961917,
          -7.200636562012414,
          1.0659916936683693,
          -8.71557523920062,
          -7.696577208806026,
          1.1610212655950372,
          -5.668563292661874,
          6.838579808149108,
          -4.860117901082265,
          -0.00782708843495894,
          -6.422873609140609,
          -6.924323157618641,
          2.0641055637377645,
          7.660648830290129,
          -9.202560487181007,
          -3.6231920168936895,
          8.42089075937518,
          -5.591392834919638,
          -7.706011022464145,
          -1.505792754087424,
          5.173830409153467,
          -8.88160256318533,
          -8.601074941162103,
          -8.145551275806085,
          -3.502833621915606,
          -11.647177299023916,
          7.399092936734994,
          -3.3076194991305927,
          0.47059810387197876,
          -7.247837010308687,
          -8.40038470385716,
          7.383414229139845,
          -4.871865899054979,
          -8.832641278975364,
          -8.891563741272343,
          -4.897931019258532,
          -8.100678208407388,
          1.6591213320872278,
          -4.9778199149645035,
          -4.443145706413132,
          -6.871715907407589,
          2.1399360104489773,
          8.158441418160056,
          8.953592166151846,
          0.41930840980731,
          -0.6073273943437381,
          -7.537717675978614
         ],
         "xaxis": "x",
         "y": [
          -0.840008608488972,
          -8.214357175249043,
          -4.9698027620654734,
          -4.957992690049898,
          7.803018373055721,
          -5.58935539048826,
          4.192670267723113,
          7.365488359784599,
          3.9573065529395546,
          -2.676200228007901,
          0.7086710068670571,
          -5.902299343889417,
          0.49262060119610346,
          -0.9487761141228485,
          2.1258289132198263,
          3.0987611784255713,
          0.5035872686480847,
          3.0446557679617308,
          7.949783800477675,
          -2.6990187854150673,
          -1.214106494188386,
          -3.539283839985813,
          -7.014178902257472,
          9.120920114640036,
          5.015754293316245,
          -6.917298560664095,
          3.1390806915192577,
          8.076992150321752,
          -6.885351054942823,
          2.302066923419982,
          -5.774685048989035,
          4.399672719589008,
          4.401519644767997,
          7.277429755892703,
          7.538734597490798,
          6.965086668454827,
          -5.688622927217998,
          4.313573317727118,
          0.5938473380664607,
          5.937601483768031,
          9.557244732627355,
          0.5296124779773668,
          -1.4565386631233976,
          7.3855915148782065,
          -1.5275581466878336,
          -0.3034396501443032,
          5.872529516015044,
          -0.9294155526851582,
          -8.136934752196803,
          5.9325837556558385,
          0.36553849863425114,
          1.2136404710469118,
          1.743873279183426,
          6.3034006081991425,
          0.0274804375175475,
          8.557605956097849,
          0.2761675370435899,
          9.996740304444847,
          -1.2481632988764917,
          0.1816087184011697,
          -7.012525812900505,
          -7.329085264054504,
          4.839172852225158,
          -0.8869585962170974,
          2.419815415408637,
          -7.7207936097211025,
          5.06229489820291,
          7.785075336484137,
          7.815632623266837,
          6.139067235488398,
          3.325044179659802,
          -5.227668548162886,
          -2.5058328617142474,
          1.5615445605754983,
          3.9329257300841567,
          1.4581686221118,
          -0.755288398619349,
          8.409390566077068,
          -1.459082530231335,
          7.143152735221297,
          -4.591056686858603,
          9.29210462222768,
          6.10193491276259,
          0.6411878248131172,
          0.7826715009280651,
          -2.3435260779773794,
          -2.5819191378249657,
          6.63660058485703,
          8.17868686989031,
          -4.167773331869235,
          8.174029805815584,
          -4.22856883227755,
          -0.5209127335054982,
          -7.348692105025304,
          -1.0872093926108395,
          -1.6758470201297,
          1.2882360337360543,
          5.554619360106903,
          0.06753833173775856,
          -1.4234352004527424,
          6.379305955857683,
          -3.2128752527253566,
          -1.6163795031371495,
          -5.894872275831354,
          -0.39837087991018094,
          -2.076209461650696,
          4.002443089175172,
          -5.089421365212473,
          -5.342049428833757,
          3.685738422002593,
          5.047578832861681,
          0.7028014300615715,
          8.56728243426281,
          -0.9282126412520253,
          8.619914050738185,
          8.177856905351987,
          -0.5139745397400699,
          9.836688630025126,
          -4.936134306191019,
          3.2742990345091467,
          5.282347107680987,
          -3.401220738023923,
          0.7810376222478573,
          -0.36819866099788534,
          2.2484844089562817,
          0.10709777007265195,
          -8.127386551857121,
          -2.3275249533243985,
          3.5365395411737266,
          -4.946823720895795,
          8.29673175069902,
          -4.539975212961385,
          9.807616769776246,
          0.30496731015526624,
          3.8951945875160394,
          0.3170872299137597,
          7.684476978859404,
          7.398673999334801,
          8.360871036840505,
          0.9412097621927101,
          -0.08602363944664027,
          9.64853097651546,
          0.40306341607900986,
          -6.483393244040365,
          -0.8032055424069697,
          -6.509557648821931,
          -1.7543659509921437,
          -0.2998652638352137,
          -5.528880164287608,
          3.06188882225062,
          1.0758361122179358,
          -1.5033932679201634,
          2.374701446010179,
          0.009002038567600401,
          -7.649949472558587,
          3.7582790377612048,
          -1.4153005366139777,
          -5.870115623053889,
          5.330838738663737,
          1.6251790628022202,
          8.196455203639426,
          0.6429871783933356,
          3.449963252250046,
          -6.727518098565695,
          -0.5168152773955735,
          5.496694271804582,
          10.383449404959611,
          -1.6484718481361722,
          -0.26181255648995,
          7.6320405408311505,
          -7.06094522804478,
          -2.064314461038673,
          0.14533307679269927,
          7.944282573383412,
          -0.40490622470702686,
          -7.494438684553248,
          -4.23571163059556,
          -0.638885064706621,
          -1.6139037340642843,
          9.916599590991005,
          -1.076984527968524,
          2.6164791367791276,
          -5.40210465046139,
          -6.011200840065764,
          7.7600847555373225,
          0.7029665792218754,
          -0.24430027279184974,
          -2.1485665942967307,
          0.9480178397733657,
          -4.4551769412144,
          4.41204315908793,
          0.2892976331046949,
          -1.081494533716222,
          -6.692773883998404,
          4.031042219561194,
          7.485870467440796,
          8.565554133871876,
          3.5743620726738525,
          4.809631904632268,
          -5.481752493234904
         ],
         "yaxis": "y"
        },
        {
         "hovertemplate": "x=%{x}<br>y=%{y}<br>size=%{marker.size}<extra></extra>",
         "legendgroup": "",
         "marker": {
          "color": "#636efa",
          "size": [
           5,
           5,
           5,
           5,
           5
          ],
          "sizemode": "area",
          "sizeref": 0.0125,
          "symbol": "circle"
         },
         "mode": "markers",
         "name": "",
         "orientation": "v",
         "showlegend": false,
         "type": "scatter",
         "x": [
          -8.09496313237473,
          7.540957080447164,
          0.8879151928027795,
          -4.884954299193932,
          8.632125509889349
         ],
         "xaxis": "x",
         "y": [
          -4.017581022407633,
          7.590894632868613,
          4.156009290382267,
          0.31096108230075836,
          9.113345315642162
         ],
         "yaxis": "y"
        }
       ],
       "layout": {
        "template": {
         "data": {
          "bar": [
           {
            "error_x": {
             "color": "#2a3f5f"
            },
            "error_y": {
             "color": "#2a3f5f"
            },
            "marker": {
             "line": {
              "color": "#E5ECF6",
              "width": 0.5
             },
             "pattern": {
              "fillmode": "overlay",
              "size": 10,
              "solidity": 0.2
             }
            },
            "type": "bar"
           }
          ],
          "barpolar": [
           {
            "marker": {
             "line": {
              "color": "#E5ECF6",
              "width": 0.5
             },
             "pattern": {
              "fillmode": "overlay",
              "size": 10,
              "solidity": 0.2
             }
            },
            "type": "barpolar"
           }
          ],
          "carpet": [
           {
            "aaxis": {
             "endlinecolor": "#2a3f5f",
             "gridcolor": "white",
             "linecolor": "white",
             "minorgridcolor": "white",
             "startlinecolor": "#2a3f5f"
            },
            "baxis": {
             "endlinecolor": "#2a3f5f",
             "gridcolor": "white",
             "linecolor": "white",
             "minorgridcolor": "white",
             "startlinecolor": "#2a3f5f"
            },
            "type": "carpet"
           }
          ],
          "choropleth": [
           {
            "colorbar": {
             "outlinewidth": 0,
             "ticks": ""
            },
            "type": "choropleth"
           }
          ],
          "contour": [
           {
            "colorbar": {
             "outlinewidth": 0,
             "ticks": ""
            },
            "colorscale": [
             [
              0,
              "#0d0887"
             ],
             [
              0.1111111111111111,
              "#46039f"
             ],
             [
              0.2222222222222222,
              "#7201a8"
             ],
             [
              0.3333333333333333,
              "#9c179e"
             ],
             [
              0.4444444444444444,
              "#bd3786"
             ],
             [
              0.5555555555555556,
              "#d8576b"
             ],
             [
              0.6666666666666666,
              "#ed7953"
             ],
             [
              0.7777777777777778,
              "#fb9f3a"
             ],
             [
              0.8888888888888888,
              "#fdca26"
             ],
             [
              1,
              "#f0f921"
             ]
            ],
            "type": "contour"
           }
          ],
          "contourcarpet": [
           {
            "colorbar": {
             "outlinewidth": 0,
             "ticks": ""
            },
            "type": "contourcarpet"
           }
          ],
          "heatmap": [
           {
            "colorbar": {
             "outlinewidth": 0,
             "ticks": ""
            },
            "colorscale": [
             [
              0,
              "#0d0887"
             ],
             [
              0.1111111111111111,
              "#46039f"
             ],
             [
              0.2222222222222222,
              "#7201a8"
             ],
             [
              0.3333333333333333,
              "#9c179e"
             ],
             [
              0.4444444444444444,
              "#bd3786"
             ],
             [
              0.5555555555555556,
              "#d8576b"
             ],
             [
              0.6666666666666666,
              "#ed7953"
             ],
             [
              0.7777777777777778,
              "#fb9f3a"
             ],
             [
              0.8888888888888888,
              "#fdca26"
             ],
             [
              1,
              "#f0f921"
             ]
            ],
            "type": "heatmap"
           }
          ],
          "heatmapgl": [
           {
            "colorbar": {
             "outlinewidth": 0,
             "ticks": ""
            },
            "colorscale": [
             [
              0,
              "#0d0887"
             ],
             [
              0.1111111111111111,
              "#46039f"
             ],
             [
              0.2222222222222222,
              "#7201a8"
             ],
             [
              0.3333333333333333,
              "#9c179e"
             ],
             [
              0.4444444444444444,
              "#bd3786"
             ],
             [
              0.5555555555555556,
              "#d8576b"
             ],
             [
              0.6666666666666666,
              "#ed7953"
             ],
             [
              0.7777777777777778,
              "#fb9f3a"
             ],
             [
              0.8888888888888888,
              "#fdca26"
             ],
             [
              1,
              "#f0f921"
             ]
            ],
            "type": "heatmapgl"
           }
          ],
          "histogram": [
           {
            "marker": {
             "pattern": {
              "fillmode": "overlay",
              "size": 10,
              "solidity": 0.2
             }
            },
            "type": "histogram"
           }
          ],
          "histogram2d": [
           {
            "colorbar": {
             "outlinewidth": 0,
             "ticks": ""
            },
            "colorscale": [
             [
              0,
              "#0d0887"
             ],
             [
              0.1111111111111111,
              "#46039f"
             ],
             [
              0.2222222222222222,
              "#7201a8"
             ],
             [
              0.3333333333333333,
              "#9c179e"
             ],
             [
              0.4444444444444444,
              "#bd3786"
             ],
             [
              0.5555555555555556,
              "#d8576b"
             ],
             [
              0.6666666666666666,
              "#ed7953"
             ],
             [
              0.7777777777777778,
              "#fb9f3a"
             ],
             [
              0.8888888888888888,
              "#fdca26"
             ],
             [
              1,
              "#f0f921"
             ]
            ],
            "type": "histogram2d"
           }
          ],
          "histogram2dcontour": [
           {
            "colorbar": {
             "outlinewidth": 0,
             "ticks": ""
            },
            "colorscale": [
             [
              0,
              "#0d0887"
             ],
             [
              0.1111111111111111,
              "#46039f"
             ],
             [
              0.2222222222222222,
              "#7201a8"
             ],
             [
              0.3333333333333333,
              "#9c179e"
             ],
             [
              0.4444444444444444,
              "#bd3786"
             ],
             [
              0.5555555555555556,
              "#d8576b"
             ],
             [
              0.6666666666666666,
              "#ed7953"
             ],
             [
              0.7777777777777778,
              "#fb9f3a"
             ],
             [
              0.8888888888888888,
              "#fdca26"
             ],
             [
              1,
              "#f0f921"
             ]
            ],
            "type": "histogram2dcontour"
           }
          ],
          "mesh3d": [
           {
            "colorbar": {
             "outlinewidth": 0,
             "ticks": ""
            },
            "type": "mesh3d"
           }
          ],
          "parcoords": [
           {
            "line": {
             "colorbar": {
              "outlinewidth": 0,
              "ticks": ""
             }
            },
            "type": "parcoords"
           }
          ],
          "pie": [
           {
            "automargin": true,
            "type": "pie"
           }
          ],
          "scatter": [
           {
            "fillpattern": {
             "fillmode": "overlay",
             "size": 10,
             "solidity": 0.2
            },
            "type": "scatter"
           }
          ],
          "scatter3d": [
           {
            "line": {
             "colorbar": {
              "outlinewidth": 0,
              "ticks": ""
             }
            },
            "marker": {
             "colorbar": {
              "outlinewidth": 0,
              "ticks": ""
             }
            },
            "type": "scatter3d"
           }
          ],
          "scattercarpet": [
           {
            "marker": {
             "colorbar": {
              "outlinewidth": 0,
              "ticks": ""
             }
            },
            "type": "scattercarpet"
           }
          ],
          "scattergeo": [
           {
            "marker": {
             "colorbar": {
              "outlinewidth": 0,
              "ticks": ""
             }
            },
            "type": "scattergeo"
           }
          ],
          "scattergl": [
           {
            "marker": {
             "colorbar": {
              "outlinewidth": 0,
              "ticks": ""
             }
            },
            "type": "scattergl"
           }
          ],
          "scattermapbox": [
           {
            "marker": {
             "colorbar": {
              "outlinewidth": 0,
              "ticks": ""
             }
            },
            "type": "scattermapbox"
           }
          ],
          "scatterpolar": [
           {
            "marker": {
             "colorbar": {
              "outlinewidth": 0,
              "ticks": ""
             }
            },
            "type": "scatterpolar"
           }
          ],
          "scatterpolargl": [
           {
            "marker": {
             "colorbar": {
              "outlinewidth": 0,
              "ticks": ""
             }
            },
            "type": "scatterpolargl"
           }
          ],
          "scatterternary": [
           {
            "marker": {
             "colorbar": {
              "outlinewidth": 0,
              "ticks": ""
             }
            },
            "type": "scatterternary"
           }
          ],
          "surface": [
           {
            "colorbar": {
             "outlinewidth": 0,
             "ticks": ""
            },
            "colorscale": [
             [
              0,
              "#0d0887"
             ],
             [
              0.1111111111111111,
              "#46039f"
             ],
             [
              0.2222222222222222,
              "#7201a8"
             ],
             [
              0.3333333333333333,
              "#9c179e"
             ],
             [
              0.4444444444444444,
              "#bd3786"
             ],
             [
              0.5555555555555556,
              "#d8576b"
             ],
             [
              0.6666666666666666,
              "#ed7953"
             ],
             [
              0.7777777777777778,
              "#fb9f3a"
             ],
             [
              0.8888888888888888,
              "#fdca26"
             ],
             [
              1,
              "#f0f921"
             ]
            ],
            "type": "surface"
           }
          ],
          "table": [
           {
            "cells": {
             "fill": {
              "color": "#EBF0F8"
             },
             "line": {
              "color": "white"
             }
            },
            "header": {
             "fill": {
              "color": "#C8D4E3"
             },
             "line": {
              "color": "white"
             }
            },
            "type": "table"
           }
          ]
         },
         "layout": {
          "annotationdefaults": {
           "arrowcolor": "#2a3f5f",
           "arrowhead": 0,
           "arrowwidth": 1
          },
          "autotypenumbers": "strict",
          "coloraxis": {
           "colorbar": {
            "outlinewidth": 0,
            "ticks": ""
           }
          },
          "colorscale": {
           "diverging": [
            [
             0,
             "#8e0152"
            ],
            [
             0.1,
             "#c51b7d"
            ],
            [
             0.2,
             "#de77ae"
            ],
            [
             0.3,
             "#f1b6da"
            ],
            [
             0.4,
             "#fde0ef"
            ],
            [
             0.5,
             "#f7f7f7"
            ],
            [
             0.6,
             "#e6f5d0"
            ],
            [
             0.7,
             "#b8e186"
            ],
            [
             0.8,
             "#7fbc41"
            ],
            [
             0.9,
             "#4d9221"
            ],
            [
             1,
             "#276419"
            ]
           ],
           "sequential": [
            [
             0,
             "#0d0887"
            ],
            [
             0.1111111111111111,
             "#46039f"
            ],
            [
             0.2222222222222222,
             "#7201a8"
            ],
            [
             0.3333333333333333,
             "#9c179e"
            ],
            [
             0.4444444444444444,
             "#bd3786"
            ],
            [
             0.5555555555555556,
             "#d8576b"
            ],
            [
             0.6666666666666666,
             "#ed7953"
            ],
            [
             0.7777777777777778,
             "#fb9f3a"
            ],
            [
             0.8888888888888888,
             "#fdca26"
            ],
            [
             1,
             "#f0f921"
            ]
           ],
           "sequentialminus": [
            [
             0,
             "#0d0887"
            ],
            [
             0.1111111111111111,
             "#46039f"
            ],
            [
             0.2222222222222222,
             "#7201a8"
            ],
            [
             0.3333333333333333,
             "#9c179e"
            ],
            [
             0.4444444444444444,
             "#bd3786"
            ],
            [
             0.5555555555555556,
             "#d8576b"
            ],
            [
             0.6666666666666666,
             "#ed7953"
            ],
            [
             0.7777777777777778,
             "#fb9f3a"
            ],
            [
             0.8888888888888888,
             "#fdca26"
            ],
            [
             1,
             "#f0f921"
            ]
           ]
          },
          "colorway": [
           "#636efa",
           "#EF553B",
           "#00cc96",
           "#ab63fa",
           "#FFA15A",
           "#19d3f3",
           "#FF6692",
           "#B6E880",
           "#FF97FF",
           "#FECB52"
          ],
          "font": {
           "color": "#2a3f5f"
          },
          "geo": {
           "bgcolor": "white",
           "lakecolor": "white",
           "landcolor": "#E5ECF6",
           "showlakes": true,
           "showland": true,
           "subunitcolor": "white"
          },
          "hoverlabel": {
           "align": "left"
          },
          "hovermode": "closest",
          "mapbox": {
           "style": "light"
          },
          "paper_bgcolor": "white",
          "plot_bgcolor": "#E5ECF6",
          "polar": {
           "angularaxis": {
            "gridcolor": "white",
            "linecolor": "white",
            "ticks": ""
           },
           "bgcolor": "#E5ECF6",
           "radialaxis": {
            "gridcolor": "white",
            "linecolor": "white",
            "ticks": ""
           }
          },
          "scene": {
           "xaxis": {
            "backgroundcolor": "#E5ECF6",
            "gridcolor": "white",
            "gridwidth": 2,
            "linecolor": "white",
            "showbackground": true,
            "ticks": "",
            "zerolinecolor": "white"
           },
           "yaxis": {
            "backgroundcolor": "#E5ECF6",
            "gridcolor": "white",
            "gridwidth": 2,
            "linecolor": "white",
            "showbackground": true,
            "ticks": "",
            "zerolinecolor": "white"
           },
           "zaxis": {
            "backgroundcolor": "#E5ECF6",
            "gridcolor": "white",
            "gridwidth": 2,
            "linecolor": "white",
            "showbackground": true,
            "ticks": "",
            "zerolinecolor": "white"
           }
          },
          "shapedefaults": {
           "line": {
            "color": "#2a3f5f"
           }
          },
          "ternary": {
           "aaxis": {
            "gridcolor": "white",
            "linecolor": "white",
            "ticks": ""
           },
           "baxis": {
            "gridcolor": "white",
            "linecolor": "white",
            "ticks": ""
           },
           "bgcolor": "#E5ECF6",
           "caxis": {
            "gridcolor": "white",
            "linecolor": "white",
            "ticks": ""
           }
          },
          "title": {
           "x": 0.05
          },
          "xaxis": {
           "automargin": true,
           "gridcolor": "white",
           "linecolor": "white",
           "ticks": "",
           "title": {
            "standoff": 15
           },
           "zerolinecolor": "white",
           "zerolinewidth": 2
          },
          "yaxis": {
           "automargin": true,
           "gridcolor": "white",
           "linecolor": "white",
           "ticks": "",
           "title": {
            "standoff": 15
           },
           "zerolinecolor": "white",
           "zerolinewidth": 2
          }
         }
        }
       }
      }
     },
     "metadata": {},
     "output_type": "display_data"
    }
   ],
   "source": [
    "grafico1 = px.scatter(x=x_random[:,0], y=x_random[:,1], color=rotulos)\n",
    "grafico2 = px.scatter(x=centroides[:,0], y=centroides[:,1], size=[5, 5, 5, 5, 5])\n",
    "grafico3 = go.Figure(data=grafico1.data + grafico2.data)\n",
    "\n",
    "grafico3.show()"
   ]
  }
 ],
 "metadata": {
  "kernelspec": {
   "display_name": "3.10.9",
   "language": "python",
   "name": "python3"
  },
  "language_info": {
   "codemirror_mode": {
    "name": "ipython",
    "version": 3
   },
   "file_extension": ".py",
   "mimetype": "text/x-python",
   "name": "python",
   "nbconvert_exporter": "python",
   "pygments_lexer": "ipython3",
   "version": "3.10.9"
  }
 },
 "nbformat": 4,
 "nbformat_minor": 5
}
