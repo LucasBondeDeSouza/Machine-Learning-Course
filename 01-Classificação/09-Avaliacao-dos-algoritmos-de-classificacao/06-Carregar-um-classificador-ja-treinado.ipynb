{
 "cells": [
  {
   "cell_type": "markdown",
   "id": "c6eb56a4",
   "metadata": {},
   "source": [
    "# Processos Feitos Anterioremente"
   ]
  },
  {
   "cell_type": "code",
   "execution_count": 3,
   "id": "d32d221e",
   "metadata": {},
   "outputs": [],
   "source": [
    "import numpy as np\n",
    "import pickle\n",
    "\n",
    "with open('credit.pkl', 'rb') as f:\n",
    "    x_credit_treinamento, y_credit_treinamento, x_credit_teste, y_credit_teste = pickle.load(f)"
   ]
  },
  {
   "cell_type": "code",
   "execution_count": 4,
   "id": "c3e55835",
   "metadata": {},
   "outputs": [],
   "source": [
    "x_credit = np.concatenate((x_credit_treinamento, x_credit_teste), axis=0)\n",
    "y_credit = np.concatenate((y_credit_treinamento, y_credit_teste), axis=0)"
   ]
  },
  {
   "cell_type": "markdown",
   "id": "52af1518",
   "metadata": {},
   "source": [
    "# Carregar um Classificador já Treinado"
   ]
  },
  {
   "cell_type": "code",
   "execution_count": 2,
   "id": "92ffd3aa",
   "metadata": {},
   "outputs": [],
   "source": [
    "rede_neural = pickle.load(open('rede_neural_finalizado.sav', 'rb'))\n",
    "arvore = pickle.load(open('arvore_finalizado.sav', 'rb'))\n",
    "svm = pickle.load(open('svm_finalizado.sav', 'rb'))"
   ]
  },
  {
   "cell_type": "markdown",
   "id": "09ad945d",
   "metadata": {},
   "source": [
    "### Pegando a primeira linha do dataset x_credit"
   ]
  },
  {
   "cell_type": "code",
   "execution_count": 8,
   "id": "ce9a7097",
   "metadata": {},
   "outputs": [
    {
     "data": {
      "text/plain": [
       "array([-1.3754462 ,  0.50631087,  0.10980934])"
      ]
     },
     "execution_count": 8,
     "metadata": {},
     "output_type": "execute_result"
    }
   ],
   "source": [
    "novo_registro = x_credit[0]\n",
    "novo_registro"
   ]
  },
  {
   "cell_type": "markdown",
   "id": "5ac500b7",
   "metadata": {},
   "source": [
    "### Mudando o formato do array."
   ]
  },
  {
   "cell_type": "code",
   "execution_count": 9,
   "id": "d69857eb",
   "metadata": {},
   "outputs": [
    {
     "data": {
      "text/plain": [
       "array([[-1.3754462 ,  0.50631087,  0.10980934]])"
      ]
     },
     "execution_count": 9,
     "metadata": {},
     "output_type": "execute_result"
    }
   ],
   "source": [
    "novo_registro = novo_registro.reshape(1, -1)\n",
    "novo_registro"
   ]
  },
  {
   "cell_type": "markdown",
   "id": "dbdb5904",
   "metadata": {},
   "source": [
    "### Prevendo o resultado com os modelos treinados"
   ]
  },
  {
   "cell_type": "code",
   "execution_count": 10,
   "id": "f793ae74",
   "metadata": {},
   "outputs": [
    {
     "data": {
      "text/plain": [
       "array([0], dtype=int64)"
      ]
     },
     "execution_count": 10,
     "metadata": {},
     "output_type": "execute_result"
    }
   ],
   "source": [
    "rede_neural.predict(novo_registro)"
   ]
  },
  {
   "cell_type": "code",
   "execution_count": 11,
   "id": "57a8255e",
   "metadata": {},
   "outputs": [
    {
     "data": {
      "text/plain": [
       "array([0], dtype=int64)"
      ]
     },
     "execution_count": 11,
     "metadata": {},
     "output_type": "execute_result"
    }
   ],
   "source": [
    "arvore.predict(novo_registro)"
   ]
  },
  {
   "cell_type": "code",
   "execution_count": 12,
   "id": "a84efd56",
   "metadata": {},
   "outputs": [
    {
     "data": {
      "text/plain": [
       "array([0], dtype=int64)"
      ]
     },
     "execution_count": 12,
     "metadata": {},
     "output_type": "execute_result"
    }
   ],
   "source": [
    "svm.predict(novo_registro)"
   ]
  }
 ],
 "metadata": {
  "kernelspec": {
   "display_name": "3.10.9",
   "language": "python",
   "name": "python3"
  },
  "language_info": {
   "codemirror_mode": {
    "name": "ipython",
    "version": 3
   },
   "file_extension": ".py",
   "mimetype": "text/x-python",
   "name": "python",
   "nbconvert_exporter": "python",
   "pygments_lexer": "ipython3",
   "version": "3.10.9"
  }
 },
 "nbformat": 4,
 "nbformat_minor": 5
}
