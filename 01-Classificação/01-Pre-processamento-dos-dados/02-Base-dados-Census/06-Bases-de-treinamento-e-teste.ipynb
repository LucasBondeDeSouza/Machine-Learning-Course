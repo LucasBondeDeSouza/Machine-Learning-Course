{
 "cells": [
  {
   "cell_type": "code",
   "execution_count": 1,
   "id": "9d55f53e",
   "metadata": {},
   "outputs": [],
   "source": [
    "import pandas as pd\n",
    "import numpy as np\n",
    "import seaborn as sns\n",
    "import matplotlib.pyplot as plt\n",
    "import plotly.express as px"
   ]
  },
  {
   "cell_type": "code",
   "execution_count": 2,
   "id": "db63891b",
   "metadata": {},
   "outputs": [],
   "source": [
    "base_census = pd.read_csv(\"../../../census.csv\")"
   ]
  },
  {
   "cell_type": "markdown",
   "id": "d9cf5039",
   "metadata": {},
   "source": [
    "# Processos Feito Anteriormente"
   ]
  },
  {
   "cell_type": "code",
   "execution_count": 3,
   "id": "ba7ad479",
   "metadata": {},
   "outputs": [],
   "source": [
    "# Previsores (age, workclass, final-weight, education-num, marital-status, occupation, relationship, race, sex, capital-gain, capital-loos, hour-per-week, native-country)\n",
    "x_census = base_census.iloc[:, 0:14].values\n",
    "\n",
    "# Classe (income)\n",
    "y_census = base_census.iloc[:, 14].values\n",
    "\n",
    "# Converter os dados das colunas de String para Number \n",
    "from sklearn.preprocessing import OneHotEncoder\n",
    "from sklearn.compose import ColumnTransformer\n",
    "\n",
    "onehotencoder_census = ColumnTransformer(transformers=[(\"OneHot\", OneHotEncoder(), [1, 3, 5, 6, 7, 8, 9, 13])], remainder=\"passthrough\")\n",
    "\n",
    "x_census = onehotencoder_census.fit_transform(x_census).toarray()\n",
    "\n",
    "# Escalonamento\n",
    "from sklearn.preprocessing import StandardScaler\n",
    "\n",
    "scaler_census = StandardScaler()\n",
    "\n",
    "x_census = scaler_census.fit_transform(x_census)"
   ]
  },
  {
   "cell_type": "markdown",
   "id": "f0e67c42",
   "metadata": {},
   "source": [
    "# Divisão das bases em treinamento e teste"
   ]
  },
  {
   "cell_type": "code",
   "execution_count": 5,
   "id": "9d299ec5",
   "metadata": {},
   "outputs": [],
   "source": [
    "from sklearn.model_selection import train_test_split"
   ]
  },
  {
   "cell_type": "markdown",
   "id": "38aa5da0",
   "metadata": {},
   "source": [
    "## Esse código faz a divisão do dataset em conjunto de treino e teste usando o train_test_split do scikit-learn"
   ]
  },
  {
   "cell_type": "code",
   "execution_count": 10,
   "id": "3234e4de",
   "metadata": {},
   "outputs": [],
   "source": [
    "x_census_treinamento, x_census_teste, y_census_treinamento, y_census_teste = train_test_split(x_census, y_census, test_size = 0.15, random_state = 0)"
   ]
  },
  {
   "cell_type": "markdown",
   "id": "a3ebd254",
   "metadata": {},
   "source": [
    "## Diz quantos exemplos e quantas features tem seu conjunto de treinamento."
   ]
  },
  {
   "cell_type": "code",
   "execution_count": 11,
   "id": "e96cd962",
   "metadata": {},
   "outputs": [
    {
     "data": {
      "text/plain": [
       "(27676, 108)"
      ]
     },
     "execution_count": 11,
     "metadata": {},
     "output_type": "execute_result"
    }
   ],
   "source": [
    "x_census_treinamento.shape"
   ]
  },
  {
   "cell_type": "code",
   "execution_count": 12,
   "id": "60a0dae6",
   "metadata": {},
   "outputs": [
    {
     "data": {
      "text/plain": [
       "(27676,)"
      ]
     },
     "execution_count": 12,
     "metadata": {},
     "output_type": "execute_result"
    }
   ],
   "source": [
    "y_census_treinamento.shape"
   ]
  },
  {
   "cell_type": "code",
   "execution_count": 13,
   "id": "65e4ee78",
   "metadata": {},
   "outputs": [
    {
     "data": {
      "text/plain": [
       "((4885, 108), (4885,))"
      ]
     },
     "execution_count": 13,
     "metadata": {},
     "output_type": "execute_result"
    }
   ],
   "source": [
    "x_census_teste.shape, y_census_teste.shape"
   ]
  }
 ],
 "metadata": {
  "kernelspec": {
   "display_name": "3.10.9",
   "language": "python",
   "name": "python3"
  },
  "language_info": {
   "codemirror_mode": {
    "name": "ipython",
    "version": 3
   },
   "file_extension": ".py",
   "mimetype": "text/x-python",
   "name": "python",
   "nbconvert_exporter": "python",
   "pygments_lexer": "ipython3",
   "version": "3.10.9"
  }
 },
 "nbformat": 4,
 "nbformat_minor": 5
}
