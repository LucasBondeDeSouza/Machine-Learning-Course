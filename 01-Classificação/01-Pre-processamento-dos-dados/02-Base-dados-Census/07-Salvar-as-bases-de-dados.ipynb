{
 "cells": [
  {
   "cell_type": "code",
   "execution_count": 1,
   "id": "a44bf7d4",
   "metadata": {},
   "outputs": [],
   "source": [
    "import pandas as pd\n",
    "import numpy as np\n",
    "import seaborn as sns\n",
    "import matplotlib.pyplot as plt\n",
    "import plotly.express as px"
   ]
  },
  {
   "cell_type": "code",
   "execution_count": 2,
   "id": "3dbf7a06",
   "metadata": {},
   "outputs": [],
   "source": [
    "base_census = pd.read_csv(\"../../../census.csv\")"
   ]
  },
  {
   "cell_type": "markdown",
   "id": "a996fb78",
   "metadata": {},
   "source": [
    "# Processos Feito Anteriormente"
   ]
  },
  {
   "cell_type": "code",
   "execution_count": 3,
   "id": "7e901808",
   "metadata": {},
   "outputs": [],
   "source": [
    "# Previsores (age, workclass, final-weight, education-num, marital-status, occupation, relationship, race, sex, capital-gain, capital-loos, hour-per-week, native-country)\n",
    "x_census = base_census.iloc[:, 0:14].values\n",
    "\n",
    "# Classe (income)\n",
    "y_census = base_census.iloc[:, 14].values\n",
    "\n",
    "# Converter os dados das colunas de String para Number \n",
    "from sklearn.preprocessing import OneHotEncoder\n",
    "from sklearn.compose import ColumnTransformer\n",
    "\n",
    "onehotencoder_census = ColumnTransformer(transformers=[(\"OneHot\", OneHotEncoder(), [1, 3, 5, 6, 7, 8, 9, 13])], remainder=\"passthrough\")\n",
    "\n",
    "x_census = onehotencoder_census.fit_transform(x_census).toarray()\n",
    "\n",
    "# Escalonamento\n",
    "from sklearn.preprocessing import StandardScaler\n",
    "\n",
    "scaler_census = StandardScaler()\n",
    "\n",
    "x_census = scaler_census.fit_transform(x_census)\n",
    "\n",
    "# Divisão das bases de treinamento e teste\n",
    "from sklearn.model_selection import train_test_split\n",
    "\n",
    "x_census_treinamento, x_census_teste, y_census_treinamento, y_census_teste = train_test_split(x_census, y_census, test_size = 0.15, random_state = 0)"
   ]
  },
  {
   "cell_type": "markdown",
   "id": "fde330fb",
   "metadata": {},
   "source": [
    "# Salvar as variáveis"
   ]
  },
  {
   "cell_type": "code",
   "execution_count": 4,
   "id": "071c2f2f",
   "metadata": {},
   "outputs": [],
   "source": [
    "import pickle"
   ]
  },
  {
   "cell_type": "code",
   "execution_count": 5,
   "id": "78623440",
   "metadata": {},
   "outputs": [],
   "source": [
    "with open('census.pkl', mode = 'wb') as f:\n",
    "    pickle.dump([x_census_treinamento, y_census_treinamento, x_census_teste, y_census_teste], f)"
   ]
  }
 ],
 "metadata": {
  "kernelspec": {
   "display_name": "3.10.9",
   "language": "python",
   "name": "python3"
  },
  "language_info": {
   "codemirror_mode": {
    "name": "ipython",
    "version": 3
   },
   "file_extension": ".py",
   "mimetype": "text/x-python",
   "name": "python",
   "nbconvert_exporter": "python",
   "pygments_lexer": "ipython3",
   "version": "3.10.9"
  }
 },
 "nbformat": 4,
 "nbformat_minor": 5
}
