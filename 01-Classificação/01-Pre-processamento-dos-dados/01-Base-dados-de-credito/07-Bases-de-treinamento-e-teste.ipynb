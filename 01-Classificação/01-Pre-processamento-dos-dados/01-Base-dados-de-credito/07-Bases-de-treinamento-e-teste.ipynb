{
 "cells": [
  {
   "cell_type": "code",
   "execution_count": 1,
   "id": "9d55f53e",
   "metadata": {},
   "outputs": [],
   "source": [
    "import pandas as pd\n",
    "import numpy as np\n",
    "import seaborn as sns\n",
    "import matplotlib.pyplot as plt\n",
    "import plotly.express as px"
   ]
  },
  {
   "cell_type": "code",
   "execution_count": 2,
   "id": "db63891b",
   "metadata": {},
   "outputs": [],
   "source": [
    "base_credit = pd.read_csv(\"../../../credit_data.csv\")"
   ]
  },
  {
   "cell_type": "markdown",
   "id": "d9cf5039",
   "metadata": {},
   "source": [
    "# Processos Feito Anteriormente"
   ]
  },
  {
   "cell_type": "code",
   "execution_count": 3,
   "id": "ba7ad479",
   "metadata": {},
   "outputs": [],
   "source": [
    "# Substituir os dados com a idade negativa para 40.92 (média da tabela)\n",
    "base_credit.loc[base_credit['age'] < 0, 'age'] = 40.92\n",
    "\n",
    "# Preenchendo os valores Nulos com a média da coluna idade da tabela\n",
    "base_credit['age'] = base_credit['age'].fillna(base_credit['age'].mean())\n",
    "\n",
    "# Previsores (Income, Age, Loan)\n",
    "x_credit = base_credit.iloc[:, 1:4].values\n",
    "\n",
    "# Classe (Default)\n",
    "y_credit = base_credit.iloc[:, 4].values\n",
    "\n",
    "# Padronização\n",
    "from sklearn.preprocessing import StandardScaler\n",
    "scaler_credit = StandardScaler()\n",
    "x_credit = scaler_credit.fit_transform(x_credit)"
   ]
  },
  {
   "cell_type": "markdown",
   "id": "f0e67c42",
   "metadata": {},
   "source": [
    "# Divisão das bases em treinamento e teste"
   ]
  },
  {
   "cell_type": "code",
   "execution_count": 4,
   "id": "9d299ec5",
   "metadata": {},
   "outputs": [],
   "source": [
    "from sklearn.model_selection import train_test_split"
   ]
  },
  {
   "cell_type": "markdown",
   "id": "38aa5da0",
   "metadata": {},
   "source": [
    "## Esse código faz a divisão do dataset em conjunto de treino e teste usando o train_test_split do scikit-learn"
   ]
  },
  {
   "cell_type": "code",
   "execution_count": 5,
   "id": "3234e4de",
   "metadata": {},
   "outputs": [],
   "source": [
    "x_credit_treinamento, x_credit_teste, y_credit_treinamento, y_credit_teste = train_test_split(x_credit, y_credit, test_size = 0.25, random_state = 0)"
   ]
  },
  {
   "cell_type": "markdown",
   "id": "a3ebd254",
   "metadata": {},
   "source": [
    "## Diz quantos exemplos e quantas features tem seu conjunto de treinamento."
   ]
  },
  {
   "cell_type": "code",
   "execution_count": 7,
   "id": "e96cd962",
   "metadata": {},
   "outputs": [
    {
     "data": {
      "text/plain": [
       "(1500, 3)"
      ]
     },
     "execution_count": 7,
     "metadata": {},
     "output_type": "execute_result"
    }
   ],
   "source": [
    "x_credit_treinamento.shape"
   ]
  },
  {
   "cell_type": "code",
   "execution_count": 8,
   "id": "60a0dae6",
   "metadata": {},
   "outputs": [
    {
     "data": {
      "text/plain": [
       "(1500,)"
      ]
     },
     "execution_count": 8,
     "metadata": {},
     "output_type": "execute_result"
    }
   ],
   "source": [
    "y_credit_treinamento.shape"
   ]
  },
  {
   "cell_type": "code",
   "execution_count": 9,
   "id": "65e4ee78",
   "metadata": {},
   "outputs": [
    {
     "data": {
      "text/plain": [
       "((500, 3), (500,))"
      ]
     },
     "execution_count": 9,
     "metadata": {},
     "output_type": "execute_result"
    }
   ],
   "source": [
    "x_credit_teste.shape, y_credit_teste.shape"
   ]
  }
 ],
 "metadata": {
  "kernelspec": {
   "display_name": "3.10.9",
   "language": "python",
   "name": "python3"
  },
  "language_info": {
   "codemirror_mode": {
    "name": "ipython",
    "version": 3
   },
   "file_extension": ".py",
   "mimetype": "text/x-python",
   "name": "python",
   "nbconvert_exporter": "python",
   "pygments_lexer": "ipython3",
   "version": "3.10.9"
  }
 },
 "nbformat": 4,
 "nbformat_minor": 5
}
