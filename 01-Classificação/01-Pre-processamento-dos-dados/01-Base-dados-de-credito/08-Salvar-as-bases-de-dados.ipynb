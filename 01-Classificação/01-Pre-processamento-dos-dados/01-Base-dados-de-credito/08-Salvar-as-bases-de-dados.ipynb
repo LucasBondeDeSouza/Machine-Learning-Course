{
 "cells": [
  {
   "cell_type": "code",
   "execution_count": 1,
   "id": "293aabde",
   "metadata": {},
   "outputs": [],
   "source": [
    "import pandas as pd\n",
    "import numpy as np\n",
    "import seaborn as sns\n",
    "import matplotlib.pyplot as plt\n",
    "import plotly.express as px"
   ]
  },
  {
   "cell_type": "code",
   "execution_count": 2,
   "id": "e55d4e8a",
   "metadata": {},
   "outputs": [],
   "source": [
    "base_credit = pd.read_csv(\"../../../credit_data.csv\")"
   ]
  },
  {
   "cell_type": "markdown",
   "id": "c5fcb296",
   "metadata": {},
   "source": [
    "# Processos Feito Anteriormente"
   ]
  },
  {
   "cell_type": "code",
   "execution_count": 3,
   "id": "4c4d392d",
   "metadata": {},
   "outputs": [],
   "source": [
    "# Substituir os dados com a idade negativa para 40.92 (média da tabela)\n",
    "base_credit.loc[base_credit['age'] < 0, 'age'] = 40.92\n",
    "\n",
    "# Preenchendo os valores Nulos com a média da coluna idade da tabela\n",
    "base_credit['age'] = base_credit['age'].fillna(base_credit['age'].mean())\n",
    "\n",
    "# Previsores (Income, Age, Loan)\n",
    "x_credit = base_credit.iloc[:, 1:4].values\n",
    "\n",
    "# Classe (Default)\n",
    "y_credit = base_credit.iloc[:, 4].values\n",
    "\n",
    "# Padronização\n",
    "from sklearn.preprocessing import StandardScaler\n",
    "scaler_credit = StandardScaler()\n",
    "x_credit = scaler_credit.fit_transform(x_credit)\n",
    "\n",
    "# Divisão das bases em treinamento e teste\n",
    "from sklearn.model_selection import train_test_split\n",
    "\n",
    "x_credit_treinamento, x_credit_teste, y_credit_treinamento, y_credit_teste = train_test_split(x_credit, y_credit, test_size = 0.25, random_state = 0)"
   ]
  },
  {
   "cell_type": "markdown",
   "id": "ce3a57ea",
   "metadata": {},
   "source": [
    "# Salvar as Variáveis"
   ]
  },
  {
   "cell_type": "code",
   "execution_count": 4,
   "id": "0d30d181",
   "metadata": {},
   "outputs": [],
   "source": [
    "import pickle"
   ]
  },
  {
   "cell_type": "code",
   "execution_count": 5,
   "id": "969cd998",
   "metadata": {},
   "outputs": [],
   "source": [
    "with open('credit.pkl', mode = 'wb') as f:\n",
    "    pickle.dump([x_credit_treinamento, y_credit_treinamento, x_credit_teste, y_credit_teste], f)"
   ]
  }
 ],
 "metadata": {
  "kernelspec": {
   "display_name": "3.10.9",
   "language": "python",
   "name": "python3"
  },
  "language_info": {
   "codemirror_mode": {
    "name": "ipython",
    "version": 3
   },
   "file_extension": ".py",
   "mimetype": "text/x-python",
   "name": "python",
   "nbconvert_exporter": "python",
   "pygments_lexer": "ipython3",
   "version": "3.10.9"
  }
 },
 "nbformat": 4,
 "nbformat_minor": 5
}
