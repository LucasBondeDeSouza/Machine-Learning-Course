{
 "cells": [
  {
   "cell_type": "code",
   "execution_count": 1,
   "id": "c21ae0f1",
   "metadata": {},
   "outputs": [],
   "source": [
    "import pandas as pd\n",
    "import numpy as np\n",
    "import seaborn as sns\n",
    "import matplotlib.pyplot as plt\n",
    "import plotly.express as px"
   ]
  },
  {
   "cell_type": "code",
   "execution_count": 2,
   "id": "d6502e56",
   "metadata": {},
   "outputs": [],
   "source": [
    "base_credit = pd.read_csv(\"../../../credit_data.csv\")"
   ]
  },
  {
   "cell_type": "markdown",
   "id": "fc0c8f86",
   "metadata": {},
   "source": [
    "# Processos Anteriores"
   ]
  },
  {
   "cell_type": "code",
   "execution_count": 5,
   "id": "2f5ee5b7",
   "metadata": {},
   "outputs": [],
   "source": [
    "# Substituir os dados com a idade negativa para 40.92 (média da tabela)\n",
    "base_credit.loc[base_credit['age'] < 0, 'age'] = 40.92\n",
    "\n",
    "# Preenchendo os valores Nulos com a média da coluna idade da tabela\n",
    "base_credit['age'] = base_credit['age'].fillna(base_credit['age'].mean())\n",
    "\n",
    "# Previsores (Income, Age, Loan)\n",
    "x_credit = base_credit.iloc[:, 1:4].values\n",
    "\n",
    "# Classe (Default)\n",
    "y_credit = base_credit.iloc[:, 4].values"
   ]
  },
  {
   "cell_type": "markdown",
   "id": "4163c049",
   "metadata": {},
   "source": [
    "# Menor Renda, Menor Idade, Menor Dívida"
   ]
  },
  {
   "cell_type": "code",
   "execution_count": 6,
   "id": "e89b7d44",
   "metadata": {},
   "outputs": [
    {
     "data": {
      "text/plain": [
       "(20014.4894700497, 18.055188510566897, 1.37762959325451)"
      ]
     },
     "execution_count": 6,
     "metadata": {},
     "output_type": "execute_result"
    }
   ],
   "source": [
    "x_credit[:,0].min(), x_credit[:,1].min(), x_credit[:,2].min()"
   ]
  },
  {
   "cell_type": "markdown",
   "id": "bf2db320",
   "metadata": {},
   "source": [
    "# Maior Renda, Maior Idade, Maior Dívida"
   ]
  },
  {
   "cell_type": "code",
   "execution_count": 7,
   "id": "d9bb7b3a",
   "metadata": {},
   "outputs": [
    {
     "data": {
      "text/plain": [
       "(69995.6855783239, 63.971795841120205, 13766.0512393337)"
      ]
     },
     "execution_count": 7,
     "metadata": {},
     "output_type": "execute_result"
    }
   ],
   "source": [
    "x_credit[:,0].max(), x_credit[:,1].max(), x_credit[:,2].max()"
   ]
  },
  {
   "cell_type": "markdown",
   "id": "62041ad7",
   "metadata": {},
   "source": [
    "# Padronização"
   ]
  },
  {
   "cell_type": "code",
   "execution_count": 8,
   "id": "9ac58aa8",
   "metadata": {},
   "outputs": [],
   "source": [
    "from sklearn.preprocessing import StandardScaler\n",
    "scaler_credit = StandardScaler()\n",
    "x_credit = scaler_credit.fit_transform(x_credit)"
   ]
  },
  {
   "cell_type": "code",
   "execution_count": 9,
   "id": "869b026f",
   "metadata": {},
   "outputs": [
    {
     "data": {
      "text/plain": [
       "(-1.7676158019964077, -1.7264145408889917, -1.4592791099462408)"
      ]
     },
     "execution_count": 9,
     "metadata": {},
     "output_type": "execute_result"
    }
   ],
   "source": [
    "x_credit[:,0].min(), x_credit[:,1].min(), x_credit[:,2].min()"
   ]
  },
  {
   "cell_type": "code",
   "execution_count": 10,
   "id": "5550914b",
   "metadata": {},
   "outputs": [
    {
     "data": {
      "text/plain": [
       "(1.7220222385319197, 1.7393673928651967, 3.0616609141708273)"
      ]
     },
     "execution_count": 10,
     "metadata": {},
     "output_type": "execute_result"
    }
   ],
   "source": [
    "x_credit[:,0].max(), x_credit[:,1].max(), x_credit[:,2].max()"
   ]
  }
 ],
 "metadata": {
  "kernelspec": {
   "display_name": "3.10.9",
   "language": "python",
   "name": "python3"
  },
  "language_info": {
   "codemirror_mode": {
    "name": "ipython",
    "version": 3
   },
   "file_extension": ".py",
   "mimetype": "text/x-python",
   "name": "python",
   "nbconvert_exporter": "python",
   "pygments_lexer": "ipython3",
   "version": "3.10.9"
  }
 },
 "nbformat": 4,
 "nbformat_minor": 5
}
