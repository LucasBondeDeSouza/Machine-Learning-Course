{
 "cells": [
  {
   "cell_type": "code",
   "execution_count": 1,
   "id": "43d38c50",
   "metadata": {},
   "outputs": [],
   "source": [
    "import pandas as pd\n",
    "import numpy as np\n",
    "import seaborn as sns\n",
    "import matplotlib.pyplot as plt\n",
    "import plotly.express as px"
   ]
  },
  {
   "cell_type": "code",
   "execution_count": null,
   "id": "55578e49",
   "metadata": {},
   "outputs": [],
   "source": [
    "base_credit = pd.read_csv(\"../../../credit_data.csv\")"
   ]
  },
  {
   "cell_type": "markdown",
   "id": "05b8074d",
   "metadata": {},
   "source": [
    "# Processos Anteriores"
   ]
  },
  {
   "cell_type": "code",
   "execution_count": 3,
   "id": "37458bca",
   "metadata": {},
   "outputs": [],
   "source": [
    "# Substituir os dados com a idade negativa para 40.92 (média da tabela)\n",
    "base_credit.loc[base_credit['age'] < 0, 'age'] = 40.92\n",
    "\n",
    "# Preenchendo os valores Nulos com a média da coluna idade da tabela\n",
    "base_credit['age'] = base_credit['age'].fillna(base_credit['age'].mean())"
   ]
  },
  {
   "cell_type": "markdown",
   "id": "fdc6fc15",
   "metadata": {},
   "source": [
    "# Previsores (Income, Age, Loan)"
   ]
  },
  {
   "cell_type": "code",
   "execution_count": 4,
   "id": "777681f3",
   "metadata": {},
   "outputs": [
    {
     "data": {
      "text/plain": [
       "array([[6.61559251e+04, 5.90170151e+01, 8.10653213e+03],\n",
       "       [3.44151540e+04, 4.81171531e+01, 6.56474502e+03],\n",
       "       [5.73171701e+04, 6.31080495e+01, 8.02095330e+03],\n",
       "       ...,\n",
       "       [4.43114493e+04, 2.80171669e+01, 5.52278669e+03],\n",
       "       [4.37560566e+04, 6.39717958e+01, 1.62272260e+03],\n",
       "       [6.94365796e+04, 5.61526170e+01, 7.37883360e+03]])"
      ]
     },
     "execution_count": 4,
     "metadata": {},
     "output_type": "execute_result"
    }
   ],
   "source": [
    "x_credit = base_credit.iloc[:, 1:4].values\n",
    "x_credit"
   ]
  },
  {
   "cell_type": "markdown",
   "id": "7b3ad995",
   "metadata": {},
   "source": [
    "# Classe (Default)"
   ]
  },
  {
   "cell_type": "code",
   "execution_count": 5,
   "id": "e2750aae",
   "metadata": {},
   "outputs": [
    {
     "data": {
      "text/plain": [
       "array([0, 0, 0, ..., 1, 0, 0], dtype=int64)"
      ]
     },
     "execution_count": 5,
     "metadata": {},
     "output_type": "execute_result"
    }
   ],
   "source": [
    "y_credit = base_credit.iloc[:, 4].values\n",
    "y_credit"
   ]
  }
 ],
 "metadata": {
  "kernelspec": {
   "display_name": "3.10.9",
   "language": "python",
   "name": "python3"
  },
  "language_info": {
   "codemirror_mode": {
    "name": "ipython",
    "version": 3
   },
   "file_extension": ".py",
   "mimetype": "text/x-python",
   "name": "python",
   "nbconvert_exporter": "python",
   "pygments_lexer": "ipython3",
   "version": "3.10.9"
  }
 },
 "nbformat": 4,
 "nbformat_minor": 5
}
