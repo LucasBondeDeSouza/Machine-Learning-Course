{
 "cells": [
  {
   "cell_type": "code",
   "execution_count": 1,
   "id": "7326bf09",
   "metadata": {},
   "outputs": [],
   "source": [
    "import pandas as pd\n",
    "import numpy as np\n",
    "import matplotlib.pyplot as plt\n",
    "import seaborn as sns"
   ]
  },
  {
   "cell_type": "markdown",
   "id": "7dab2063",
   "metadata": {},
   "source": [
    "<h2>Ler o Arquivo CSV</h2>"
   ]
  },
  {
   "cell_type": "code",
   "execution_count": null,
   "id": "496c5bbe",
   "metadata": {},
   "outputs": [],
   "source": [
    "data = pd.read_csv(\"housing.csv\")"
   ]
  },
  {
   "cell_type": "markdown",
   "id": "07be2caf",
   "metadata": {},
   "source": [
    "<h2>Informações da tabela</h2>"
   ]
  },
  {
   "cell_type": "code",
   "execution_count": 3,
   "id": "0c977cfc",
   "metadata": {},
   "outputs": [
    {
     "name": "stdout",
     "output_type": "stream",
     "text": [
      "<class 'pandas.core.frame.DataFrame'>\n",
      "RangeIndex: 20640 entries, 0 to 20639\n",
      "Data columns (total 10 columns):\n",
      " #   Column              Non-Null Count  Dtype  \n",
      "---  ------              --------------  -----  \n",
      " 0   longitude           20640 non-null  float64\n",
      " 1   latitude            20640 non-null  float64\n",
      " 2   housing_median_age  20640 non-null  float64\n",
      " 3   total_rooms         20640 non-null  float64\n",
      " 4   total_bedrooms      20433 non-null  float64\n",
      " 5   population          20640 non-null  float64\n",
      " 6   households          20640 non-null  float64\n",
      " 7   median_income       20640 non-null  float64\n",
      " 8   median_house_value  20640 non-null  float64\n",
      " 9   ocean_proximity     20640 non-null  object \n",
      "dtypes: float64(9), object(1)\n",
      "memory usage: 1.6+ MB\n"
     ]
    }
   ],
   "source": [
    "data.info()"
   ]
  },
  {
   "cell_type": "markdown",
   "id": "be6ae7a4",
   "metadata": {},
   "source": [
    "<h2>Remove todas as linhas do DataFrame (ou Series) data que contêm pelo menos um valor nulo/NaN.</h2>"
   ]
  },
  {
   "cell_type": "code",
   "execution_count": null,
   "id": "1bd9b130",
   "metadata": {},
   "outputs": [],
   "source": [
    "data.dropna()"
   ]
  },
  {
   "cell_type": "markdown",
   "id": "7f344e9e",
   "metadata": {},
   "source": [
    "<h2>O DataFrame original (data) é modificado diretamente.</h2>\n",
    "\n",
    "<h4>Ou seja, as linhas (ou colunas, dependendo dos parâmetros) com valores nulos são removidas do próprio objeto, sem precisar criar uma cópia.</h4>"
   ]
  },
  {
   "cell_type": "code",
   "execution_count": 5,
   "id": "2277af95",
   "metadata": {},
   "outputs": [],
   "source": [
    "data.dropna(inplace=True)"
   ]
  },
  {
   "cell_type": "markdown",
   "id": "66694e83",
   "metadata": {},
   "source": [
    "<h2>Preparar os dados para treino e teste em um modelo de Machine Learning.</h2>\n",
    "\n",
    "<h4>- Contém todas as colunas de entrada (ex.: número de quartos, população, etc).</h4>\n",
    "<h4>- Contém apenas a coluna median_house_value, que é a saída a ser prevista pelo modelo.</h4>"
   ]
  },
  {
   "cell_type": "code",
   "execution_count": null,
   "id": "6f34f60a",
   "metadata": {},
   "outputs": [],
   "source": [
    "from sklearn.model_selection import train_test_split\n",
    "\n",
    "x = data.drop([\"median_house_value\"], axis = 1)\n",
    "y = data[\"median_house_value\"]"
   ]
  }
 ],
 "metadata": {
  "kernelspec": {
   "display_name": "3.10.9",
   "language": "python",
   "name": "python3"
  },
  "language_info": {
   "codemirror_mode": {
    "name": "ipython",
    "version": 3
   },
   "file_extension": ".py",
   "mimetype": "text/x-python",
   "name": "python",
   "nbconvert_exporter": "python",
   "pygments_lexer": "ipython3",
   "version": "3.10.9"
  }
 },
 "nbformat": 4,
 "nbformat_minor": 5
}
